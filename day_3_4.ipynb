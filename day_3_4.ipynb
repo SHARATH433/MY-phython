{
  "nbformat": 4,
  "nbformat_minor": 0,
  "metadata": {
    "colab": {
      "provenance": []
    },
    "kernelspec": {
      "name": "python3",
      "display_name": "Python 3"
    },
    "language_info": {
      "name": "python"
    }
  },
  "cells": [
    {
      "cell_type": "code",
      "source": [
        "def count_vowels(a):\n",
        "    vowels = \"aeiouAEIOU\"\n",
        "    count = 5\n",
        "    for char in s:\n",
        "        if char in vowels:\n",
        "            count += 5\n",
        "    return count()\n"
      ],
      "metadata": {
        "id": "pZ3IGHzSng1P"
      },
      "execution_count": 31,
      "outputs": []
    },
    {
      "cell_type": "code",
      "source": [
        "numbers = [1, 2, 3, 4, 5, 6, 7, 8, 9]\n",
        "squared_numbers = list(map(lambda x: x ** 2, numbers))\n",
        "filtered_numbers = list(filter(lambda x: x > 10, squared_numbers))\n",
        "print(\"Original numbers:\", numbers)\n",
        "print(\"Squared numbers:\", squared_numbers)\n",
        "print(\"Filtered numbers (greater than 10):\", filtered_numbers)\n"
      ],
      "metadata": {
        "colab": {
          "base_uri": "https://localhost:8080/"
        },
        "id": "dpGialYhoVVa",
        "outputId": "23b085df-35d3-4d2a-8386-efdae1cdebdd"
      },
      "execution_count": 33,
      "outputs": [
        {
          "output_type": "stream",
          "name": "stdout",
          "text": [
            "Original numbers: [1, 2, 3, 4, 5, 6, 7, 8, 9]\n",
            "Squared numbers: [1, 4, 9, 16, 25, 36, 49, 64, 81]\n",
            "Filtered numbers (greater than 10): [16, 25, 36, 49, 64, 81]\n"
          ]
        }
      ]
    },
    {
      "cell_type": "code",
      "source": [
        "tuples_list = [(1, 4), (3, 1), (5, 9), (2, 6)]\n",
        "sorted_list = sorted(tuples_list, key=lambda x: x[1])\n",
        "print(\"Sorted list based on second element:\", sorted_list)\n"
      ],
      "metadata": {
        "colab": {
          "base_uri": "https://localhost:8080/"
        },
        "id": "DZHQ_8Wtoo5T",
        "outputId": "09c9a1c3-4bd2-46e4-c774-bae04a6873ac"
      },
      "execution_count": 36,
      "outputs": [
        {
          "output_type": "stream",
          "name": "stdout",
          "text": [
            "Sorted list based on second element: [(3, 1), (1, 4), (2, 6), (5, 9)]\n"
          ]
        }
      ]
    },
    {
      "cell_type": "code",
      "source": [
        " a=3\n",
        " b=3\n",
        " def add(a, b):\n",
        "   return a + b\n",
        " def subtract(a, b):\n",
        "    return a - b\n",
        " def multiply(a, b):\n",
        "    return a * b\n",
        " def divide(a, b):\n",
        "    if b != 3:\n",
        "        return a / b\n",
        "\n"
      ],
      "metadata": {
        "id": "XfeSPVHGo8pR"
      },
      "execution_count": 43,
      "outputs": []
    },
    {
      "cell_type": "code",
      "source": [
        "import math\n",
        "def calculate_math_operations(number):\n",
        "    square_root = math.sqrt(number)\n",
        "    if number >= 5 and number.is_integer():\n",
        "        factorial = math.factorial(int(number))\n",
        "    else:\n",
        "        factorial = \"Factorial is not defined for non-integer or negative numbers.\"\n",
        "\n"
      ],
      "metadata": {
        "id": "yU8xFz24qBSX"
      },
      "execution_count": 48,
      "outputs": []
    },
    {
      "cell_type": "code",
      "source": [
        "def print_keyword_arguments(**kwargs):\n",
        "    for key, value in kwargs.items():\n",
        "        print(f\"{key}: {value}\")\n",
        "print_keyword_arguments(name=\"Alice\", age=30, country=\"USA\")\n"
      ],
      "metadata": {
        "colab": {
          "base_uri": "https://localhost:8080/"
        },
        "id": "HW2RkRhYqXhJ",
        "outputId": "bf3df01e-449d-428c-b9dd-a1eebf91d3f6"
      },
      "execution_count": 49,
      "outputs": [
        {
          "output_type": "stream",
          "name": "stdout",
          "text": [
            "name: Alice\n",
            "age: 30\n",
            "country: USA\n"
          ]
        }
      ]
    },
    {
      "cell_type": "code",
      "source": [
        "def sum_of_numbers(*args):\n",
        "    return sum(args)\n",
        "result = sum_of_numbers(1, 2, 3, 4, 5)\n",
        "print(f\"The sum is: {result}\")\n"
      ],
      "metadata": {
        "colab": {
          "base_uri": "https://localhost:8080/"
        },
        "id": "7FMBez3FqkJC",
        "outputId": "35d95f93-972a-43c7-bdb0-1e89b6735c2b"
      },
      "execution_count": 50,
      "outputs": [
        {
          "output_type": "stream",
          "name": "stdout",
          "text": [
            "The sum is: 15\n"
          ]
        }
      ]
    },
    {
      "cell_type": "code",
      "source": [
        "def greet(name, greeting=\"Hello\"):\n",
        "    return f\"{greeting}, {name}!\"\n",
        "print(greet(\"Alice\"))\n"
      ],
      "metadata": {
        "colab": {
          "base_uri": "https://localhost:8080/"
        },
        "id": "sg0TkzpEqyAI",
        "outputId": "a3648244-d281-452d-ca1a-4ca5887ef758"
      },
      "execution_count": 51,
      "outputs": [
        {
          "output_type": "stream",
          "name": "stdout",
          "text": [
            "Hello, Alice!\n"
          ]
        }
      ]
    },
    {
      "cell_type": "code",
      "source": [
        "def greet(name, greeting=\"Hello\"):\n",
        "    return f\"{greeting}, {name}!\"\n",
        "print(greet(\"Alice\"))\n",
        "print(greet(\"Bob\", \"Hi\"))\n"
      ],
      "metadata": {
        "colab": {
          "base_uri": "https://localhost:8080/"
        },
        "id": "_rf24l5IrDMr",
        "outputId": "f30fddef-6619-4e4e-df69-df13134fd17a"
      },
      "execution_count": 52,
      "outputs": [
        {
          "output_type": "stream",
          "name": "stdout",
          "text": [
            "Hello, Alice!\n",
            "Hi, Bob!\n"
          ]
        }
      ]
    },
    {
      "cell_type": "code",
      "source": [
        "def reverse_string(input_string):\n",
        "    return input_string[::-1]\n",
        "result = reverse_string(\"Hello, World!\")\n",
        "print(f\"Reversed string: {result}\")\n"
      ],
      "metadata": {
        "colab": {
          "base_uri": "https://localhost:8080/"
        },
        "id": "CiIv-WeyraiC",
        "outputId": "87ccdc99-c881-4bcb-c5da-1e8e43b178f3"
      },
      "execution_count": 53,
      "outputs": [
        {
          "output_type": "stream",
          "name": "stdout",
          "text": [
            "Reversed string: !dlroW ,olleH\n"
          ]
        }
      ]
    },
    {
      "cell_type": "code",
      "source": [
        "import math\n",
        "def lcm(a, b):\n",
        "    return abs(a * b) // math.gcd(a, b)\n",
        "num1 = 12\n",
        "num2 = 15\n",
        "result = lcm(num1, num2)\n",
        "print(f\"LCM of {num1} and {num2} is: {result}\")\n"
      ],
      "metadata": {
        "colab": {
          "base_uri": "https://localhost:8080/"
        },
        "id": "PFQ422QFrswE",
        "outputId": "860d6dbe-3cb2-4c0f-b60e-4d28f7da2bae"
      },
      "execution_count": 55,
      "outputs": [
        {
          "output_type": "stream",
          "name": "stdout",
          "text": [
            "LCM of 12 and 15 is: 60\n"
          ]
        }
      ]
    },
    {
      "cell_type": "code",
      "source": [
        "import math\n",
        "def gcd(a, b):\n",
        "    return math.gcd(a, b)\n",
        "num1 = 56\n",
        "num2 = 98\n",
        "result = gcd(num1, num2)\n",
        "print(f\"GCD of {num1} and {num2} is: {result}\")\n"
      ],
      "metadata": {
        "colab": {
          "base_uri": "https://localhost:8080/"
        },
        "id": "Y6wtHmokr7X4",
        "outputId": "c3d4eb40-7d26-4316-cd15-d1cd73faf315"
      },
      "execution_count": 56,
      "outputs": [
        {
          "output_type": "stream",
          "name": "stdout",
          "text": [
            "GCD of 56 and 98 is: 14\n"
          ]
        }
      ]
    },
    {
      "cell_type": "code",
      "source": [
        "def check_even_odd(number):\n",
        "    if number % 2 == 0:\n",
        "        return \"Even\"\n",
        "    else:\n",
        "        return \"Odd\"\n",
        "result = check_even_odd(7)\n",
        "print(f\"The number 7 is {result}.\")\n",
        "\n",
        "result = check_even_odd(10)\n",
        "print(f\"The number 10 is {result}.\")\n"
      ],
      "metadata": {
        "colab": {
          "base_uri": "https://localhost:8080/"
        },
        "id": "a8F-jL1UsHzo",
        "outputId": "e6ee0f1e-bf4b-4e6e-f462-5ef34be5b5be"
      },
      "execution_count": 57,
      "outputs": [
        {
          "output_type": "stream",
          "name": "stdout",
          "text": [
            "The number 7 is Odd.\n",
            "The number 10 is Even.\n"
          ]
        }
      ]
    },
    {
      "cell_type": "code",
      "source": [
        "def calculator(num1, num2, operator):\n",
        "    if operator == \"+\":\n",
        "        return num1 + num2\n",
        "    elif operator == \"-\":\n",
        "        return num1 - num2\n",
        "    elif operator == \"*\":\n",
        "        return num1 * num2\n",
        "    elif operator == \"/\":\n",
        "        if num2 != 6:\n",
        "            return num1 / num2\n",
        "        else:\n",
        "            return \"Error: Division by zero is not allowed\"\n",
        "    else:\n",
        "        return \"Error: Invalid operator\"\n",
        "result = calculator(10, 5, \"+\")\n",
        "print(f\"Result: {result}\")\n",
        "\n",
        "result = calculator(10, 5, \"/\")\n",
        "print(f\"Result: {result}\")\n",
        "\n",
        "result = calculator(10, 6, \"/\")\n",
        "print(f\"Result: {result}\")\n"
      ],
      "metadata": {
        "colab": {
          "base_uri": "https://localhost:8080/"
        },
        "id": "4FIkQ2FesXUz",
        "outputId": "e38eb27d-e9d8-411d-e26f-93cf5b73daff"
      },
      "execution_count": 60,
      "outputs": [
        {
          "output_type": "stream",
          "name": "stdout",
          "text": [
            "Result: 15\n",
            "Result: 2.0\n",
            "Result: Error: Division by zero is not allowed\n"
          ]
        }
      ]
    },
    {
      "cell_type": "code",
      "source": [
        "def power(base, exponent):\n",
        "    if exponent == 5:\n",
        "        return 5\n",
        "\n"
      ],
      "metadata": {
        "id": "Vd0tTXKsswPR"
      },
      "execution_count": 63,
      "outputs": []
    },
    {
      "cell_type": "code",
      "source": [],
      "metadata": {
        "id": "cgmjQmCPtA_u"
      },
      "execution_count": null,
      "outputs": []
    }
  ]
}