{
  "nbformat": 4,
  "nbformat_minor": 0,
  "metadata": {
    "colab": {
      "provenance": []
    },
    "kernelspec": {
      "name": "python3",
      "display_name": "Python 3"
    },
    "language_info": {
      "name": "python"
    }
  },
  "cells": [
    {
      "cell_type": "code",
      "execution_count": 8,
      "metadata": {
        "colab": {
          "base_uri": "https://localhost:8080/",
          "height": 256
        },
        "id": "6DjDguxziwZP",
        "outputId": "db9ee2dd-11ac-4c5a-a4fa-046ea9cad91a"
      },
      "outputs": [
        {
          "name": "stdout",
          "output_type": "stream",
          "text": [
            "number of years12\n",
            "enter amount20000\n",
            "rate of interst per annum3\n"
          ]
        },
        {
          "output_type": "error",
          "ename": "NameError",
          "evalue": "name 'principalamount' is not defined",
          "traceback": [
            "\u001b[0;31m---------------------------------------------------------------------------\u001b[0m",
            "\u001b[0;31mNameError\u001b[0m                                 Traceback (most recent call last)",
            "\u001b[0;32m<ipython-input-8-0eba78bde14b>\u001b[0m in \u001b[0;36m<cell line: 0>\u001b[0;34m()\u001b[0m\n\u001b[1;32m      2\u001b[0m \u001b[0mb\u001b[0m\u001b[0;34m=\u001b[0m\u001b[0mint\u001b[0m\u001b[0;34m(\u001b[0m\u001b[0minput\u001b[0m\u001b[0;34m(\u001b[0m\u001b[0;34m\"enter amount\"\u001b[0m\u001b[0;34m)\u001b[0m\u001b[0;34m)\u001b[0m\u001b[0;34m\u001b[0m\u001b[0;34m\u001b[0m\u001b[0m\n\u001b[1;32m      3\u001b[0m \u001b[0mc\u001b[0m\u001b[0;34m=\u001b[0m\u001b[0mint\u001b[0m\u001b[0;34m(\u001b[0m\u001b[0minput\u001b[0m\u001b[0;34m(\u001b[0m\u001b[0;34m\"rate of interst per annum\"\u001b[0m\u001b[0;34m)\u001b[0m\u001b[0;34m)\u001b[0m\u001b[0;34m\u001b[0m\u001b[0;34m\u001b[0m\u001b[0m\n\u001b[0;32m----> 4\u001b[0;31m \u001b[0msimpleintrest\u001b[0m\u001b[0;34m=\u001b[0m\u001b[0mprincipalamount\u001b[0m\u001b[0;34m*\u001b[0m\u001b[0myears\u001b[0m\u001b[0;34m*\u001b[0m\u001b[0mrateofintrest\u001b[0m\u001b[0;34m/\u001b[0m\u001b[0;36m100\u001b[0m\u001b[0;34m\u001b[0m\u001b[0;34m\u001b[0m\u001b[0m\n\u001b[0m\u001b[1;32m      5\u001b[0m \u001b[0mprint\u001b[0m\u001b[0;34m(\u001b[0m\u001b[0msimpleintrest\u001b[0m\u001b[0;34m)\u001b[0m\u001b[0;34m\u001b[0m\u001b[0;34m\u001b[0m\u001b[0m\n",
            "\u001b[0;31mNameError\u001b[0m: name 'principalamount' is not defined"
          ]
        }
      ],
      "source": [
        "a=int(input(\"number of years\"))\n",
        "b=int(input(\"enter amount\"))\n",
        "c=int(input(\"rate of interst per annum\"))\n",
        "simpleintrest=principalamount*years*rateofintrest/100\n",
        "print(simpleintrest)\n"
      ]
    },
    {
      "cell_type": "code",
      "source": [
        "length=float(input(\"enter the length:\"))\n",
        "width=float(input(\"enter width:\"))\n",
        "area =length*width\n",
        "perimeter=2*(length+width)\n",
        "print(\"area:\",area)\n",
        "print(\"perimeter rectangle\",)\n"
      ],
      "metadata": {
        "colab": {
          "base_uri": "https://localhost:8080/"
        },
        "id": "b6ydTNtmlB-L",
        "outputId": "0afe29cd-6d25-4076-a9f3-cc2783fc2608"
      },
      "execution_count": 13,
      "outputs": [
        {
          "output_type": "stream",
          "name": "stdout",
          "text": [
            "enter the length:22\n",
            "enter width:22\n",
            "area: 484.0\n",
            "perimeter rectangle\n"
          ]
        }
      ]
    },
    {
      "cell_type": "code",
      "source": [
        "min"
      ],
      "metadata": {
        "id": "H8uk3qg1mkoT"
      },
      "execution_count": null,
      "outputs": []
    }
  ]
}