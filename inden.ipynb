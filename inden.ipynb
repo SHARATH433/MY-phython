{
  "nbformat": 4,
  "nbformat_minor": 0,
  "metadata": {
    "colab": {
      "provenance": []
    },
    "kernelspec": {
      "name": "python3",
      "display_name": "Python 3"
    },
    "language_info": {
      "name": "python"
    }
  },
  "cells": [
    {
      "cell_type": "code",
      "source": [
        "def say_hello():\n",
        "    print(\"Hello, world!\")\n"
      ],
      "metadata": {
        "id": "fzAawQEWyKgb"
      },
      "execution_count": 4,
      "outputs": []
    }
  ]
}