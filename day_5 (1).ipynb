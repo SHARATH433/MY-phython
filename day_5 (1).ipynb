{
  "nbformat": 4,
  "nbformat_minor": 0,
  "metadata": {
    "colab": {
      "provenance": []
    },
    "kernelspec": {
      "name": "python3",
      "display_name": "Python 3"
    },
    "language_info": {
      "name": "python"
    }
  },
  "cells": [
    {
      "cell_type": "code",
      "source": [
        "file = open('example.txt', 'w')\n",
        "file.write(\"Hello, World!\")\n",
        "file.close()"
      ],
      "metadata": {
        "id": "9xZI-dWjKeyo"
      },
      "execution_count": 29,
      "outputs": []
    },
    {
      "cell_type": "code",
      "source": [
        "file = open('example.txt', 'a')\n",
        "file.write(\"\\nAppending a new line.\")\n",
        "file.close()"
      ],
      "metadata": {
        "id": "9PxquE5RK8o_"
      },
      "execution_count": 24,
      "outputs": []
    },
    {
      "cell_type": "code",
      "source": [
        "with open('example.txt', 'r') as file:\n",
        "    content = file.read()\n",
        "    print(content)\n"
      ],
      "metadata": {
        "colab": {
          "base_uri": "https://localhost:8080/"
        },
        "id": "5biNBo3bLHeU",
        "outputId": "3e6d64ca-788b-4a2b-de09-170c157ae647"
      },
      "execution_count": 25,
      "outputs": [
        {
          "output_type": "stream",
          "name": "stdout",
          "text": [
            "Hello, World!\n",
            "Appending a new line.\n"
          ]
        }
      ]
    },
    {
      "cell_type": "code",
      "source": [
        "with open('example.txt', 'w') as file:\n",
        "    file.write(\"Writing to a file with 'with'.\")\n"
      ],
      "metadata": {
        "id": "m2lDqhSwLOtb"
      },
      "execution_count": 26,
      "outputs": []
    },
    {
      "cell_type": "code",
      "source": [
        "file = open('example.txt', 'r')\n",
        "content = file.read()\n",
        "print(content)\n",
        "file.close"
      ],
      "metadata": {
        "colab": {
          "base_uri": "https://localhost:8080/"
        },
        "id": "Yws563FQLSr-",
        "outputId": "295da5b5-b289-40ed-abe4-0ac0a9a07a47"
      },
      "execution_count": 27,
      "outputs": [
        {
          "output_type": "stream",
          "name": "stdout",
          "text": [
            "Writing to a file with 'with'.\n"
          ]
        },
        {
          "output_type": "execute_result",
          "data": {
            "text/plain": [
              "<function TextIOWrapper.close()>"
            ]
          },
          "metadata": {},
          "execution_count": 27
        }
      ]
    },
    {
      "cell_type": "code",
      "source": [
        "try:\n",
        "  result = 10 / 0\n",
        "except ZeroDivisionError as e:\n",
        "\n",
        "    print(\"Cannot divide by zero!\")\n",
        "finally:\n",
        "    print(\"This block will run no matter what.\")\n"
      ],
      "metadata": {
        "colab": {
          "base_uri": "https://localhost:8080/"
        },
        "id": "IVcjAgE1Lf7H",
        "outputId": "428e2942-7dda-4e86-f2dc-b79d96ce5b68"
      },
      "execution_count": 31,
      "outputs": [
        {
          "output_type": "stream",
          "name": "stdout",
          "text": [
            "Cannot divide by zero!\n",
            "This block will run no matter what.\n"
          ]
        }
      ]
    },
    {
      "cell_type": "code",
      "source": [
        "def check_age(age):\n",
        "    if age <= 20:\n",
        "        raise InvalidAgeError(\"Age must be a  10\")\n",
        "    elif age < 18:\n",
        "        raise InvalidAgeError(\"Age must be 20 or older\")\n",
        "    print(\"20\")\n",
        "    return true\n"
      ],
      "metadata": {
        "id": "VxCSDeNsQwtL"
      },
      "execution_count": 41,
      "outputs": []
    },
    {
      "cell_type": "code",
      "source": [],
      "metadata": {
        "id": "84t6cIwIWvge"
      },
      "execution_count": null,
      "outputs": []
    }
  ]
}