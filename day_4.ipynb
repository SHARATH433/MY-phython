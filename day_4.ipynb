{
  "nbformat": 4,
  "nbformat_minor": 0,
  "metadata": {
    "colab": {
      "provenance": []
    },
    "kernelspec": {
      "name": "python3",
      "display_name": "Python 3"
    },
    "language_info": {
      "name": "python"
    }
  },
  "cells": [
    {
      "cell_type": "code",
      "execution_count": 2,
      "metadata": {
        "colab": {
          "base_uri": "https://localhost:8080/"
        },
        "id": "LyUZwjCP1ihU",
        "outputId": "daa6ea76-05ee-4e85-d8d6-1f041d5f9355"
      },
      "outputs": [
        {
          "output_type": "stream",
          "name": "stdout",
          "text": [
            "[1, 2, 3, 4, 5]\n"
          ]
        }
      ],
      "source": [
        "list=[1,2,3,4,]\n",
        "list[0]\n",
        "list.append(5)\n",
        "print(list)\n"
      ]
    },
    {
      "cell_type": "code",
      "source": [],
      "metadata": {
        "id": "YRhal83W9jdY"
      },
      "execution_count": null,
      "outputs": []
    },
    {
      "cell_type": "code",
      "source": [
        "my_list = [10, 20, 30, 40, 50]\n",
        "item_at_index_2 = my_list[2]\n",
        "print(\"Item at index 2:\", item_at_index_2)\n",
        "sub_list = my_list[1:4]\n",
        "print(\"Sliced List (1:4):\", sub_list)\n",
        "last_item = my_list[-1]\n",
        "print(\"Last item:\", last_item)\n"
      ],
      "metadata": {
        "colab": {
          "base_uri": "https://localhost:8080/"
        },
        "id": "8fKRALMd9HN8",
        "outputId": "050dc740-7dd4-4443-ac50-b62c3ac3ccc8"
      },
      "execution_count": 4,
      "outputs": [
        {
          "output_type": "stream",
          "name": "stdout",
          "text": [
            "Item at index 2: 30\n",
            "Sliced List (1:4): [20, 30, 40]\n",
            "Last item: 50\n"
          ]
        }
      ]
    },
    {
      "cell_type": "code",
      "source": [
        "my_list = [10, 20, 30, 40, 50]\n",
        "my_list[2] = 35\n",
        "print(\"Updated List:\", my_list)\n",
        "my_list.append(60)\n",
        "print(\"List after appending 60:\", my_list)\n",
        "\n",
        "my_list.insert(1, 15)\n",
        "print(\"List after inserting 15 at index 1:\", my_list)\n",
        "my_list.remove(40)\n",
        "print(\"List after removing 40:\", my_list)\n",
        "popped_item = my_list.pop()\n",
        "print(\"Popped item:\", popped_item)\n",
        "print(\"List after popping last item:\", my_list)\n"
      ],
      "metadata": {
        "colab": {
          "base_uri": "https://localhost:8080/"
        },
        "id": "WEWxuG9R9miG",
        "outputId": "f34c5487-9567-4918-eb85-a0907dd0a957"
      },
      "execution_count": 6,
      "outputs": [
        {
          "output_type": "stream",
          "name": "stdout",
          "text": [
            "Updated List: [10, 20, 35, 40, 50]\n",
            "List after appending 60: [10, 20, 35, 40, 50, 60]\n",
            "List after inserting 15 at index 1: [10, 15, 20, 35, 40, 50, 60]\n",
            "List after removing 40: [10, 15, 20, 35, 50, 60]\n",
            "Popped item: 60\n",
            "List after popping last item: [10, 15, 20, 35, 50]\n"
          ]
        }
      ]
    },
    {
      "cell_type": "code",
      "source": [
        "my_list = [10, 20, 30]\n",
        "my_list.append(40)\n",
        "print(\"List after appending 40:\", my_list)\n",
        "my_list.append(50)\n",
        "print(\"List after appending 50:\", my_list)\n"
      ],
      "metadata": {
        "colab": {
          "base_uri": "https://localhost:8080/"
        },
        "id": "-AhZvrnE-NXU",
        "outputId": "fb763d10-a36a-47dd-a14f-4f7a907bfa62"
      },
      "execution_count": 7,
      "outputs": [
        {
          "output_type": "stream",
          "name": "stdout",
          "text": [
            "List after appending 40: [10, 20, 30, 40]\n",
            "List after appending 50: [10, 20, 30, 40, 50]\n"
          ]
        }
      ]
    },
    {
      "cell_type": "code",
      "source": [
        "my_list = [10, 20, 30, 40, 50]\n",
        "my_list.insert(1, 15)\n",
        "print(\"List after inserting 15 at index 1:\", my_list)\n",
        "my_list.insert(0, 5)\n",
        "print(\"List after inserting 5 at index 0:\", my_list)\n",
        "my_list.insert(5, 45)\n",
        "print(\"List after inserting 45 at index 5:\", my_list)\n"
      ],
      "metadata": {
        "colab": {
          "base_uri": "https://localhost:8080/"
        },
        "id": "2HeW3POc-dsb",
        "outputId": "f07f0373-021b-4891-b44b-eb1e75892a2e"
      },
      "execution_count": 8,
      "outputs": [
        {
          "output_type": "stream",
          "name": "stdout",
          "text": [
            "List after inserting 15 at index 1: [10, 15, 20, 30, 40, 50]\n",
            "List after inserting 5 at index 0: [5, 10, 15, 20, 30, 40, 50]\n",
            "List after inserting 45 at index 5: [5, 10, 15, 20, 30, 45, 40, 50]\n"
          ]
        }
      ]
    },
    {
      "cell_type": "code",
      "source": [
        "my_list = [10, 20, 30, 40, 50]\n",
        "popped_item = my_list.pop(2)\n",
        "print(\"Popped item:\", popped_item)\n",
        "print(\"List after popping the element at index 2:\", my_list)\n",
        "last_item = my_list.pop()\n",
        "print(\"Popped last item:\", last_item)\n",
        "print(\"List after popping the last element:\", my_list)\n"
      ],
      "metadata": {
        "colab": {
          "base_uri": "https://localhost:8080/"
        },
        "id": "9awKtqqt-rrq",
        "outputId": "4f0c26e3-6032-496e-86ac-42b456c384d8"
      },
      "execution_count": 9,
      "outputs": [
        {
          "output_type": "stream",
          "name": "stdout",
          "text": [
            "Popped item: 30\n",
            "List after popping the element at index 2: [10, 20, 40, 50]\n",
            "Popped last item: 50\n",
            "List after popping the last element: [10, 20, 40]\n"
          ]
        }
      ]
    },
    {
      "cell_type": "code",
      "source": [
        "my_list = [10, 20, 30, 40, 50, 20]\n",
        "my_list.remove(20)\n",
        "print(\"List after removing the first occurrence of 20:\", my_list)\n",
        "my_list.remove(40)\n",
        "print(\"List after removing 40:\")\n"
      ],
      "metadata": {
        "colab": {
          "base_uri": "https://localhost:8080/"
        },
        "id": "hTGiyPvn--8t",
        "outputId": "4000c2b8-8d77-4e04-cb83-f3e83e9414f9"
      },
      "execution_count": 11,
      "outputs": [
        {
          "output_type": "stream",
          "name": "stdout",
          "text": [
            "List after removing the first occurrence of 20: [10, 30, 40, 50, 20]\n",
            "List after removing 40:\n"
          ]
        }
      ]
    },
    {
      "cell_type": "code",
      "source": [
        "my_list = [50, 20, 10, 40, 30]\n",
        "my_list.sort()\n",
        "print(\"Sorted in ascending order:\", my_list)\n",
        "my_list.sort(reverse=True)\n",
        "print(\"Sorted in descending order:\", my_list)\n"
      ],
      "metadata": {
        "colab": {
          "base_uri": "https://localhost:8080/"
        },
        "id": "TMV1me8r_Lla",
        "outputId": "c7109632-2ca1-4497-b695-c98d8ba9aac2"
      },
      "execution_count": 12,
      "outputs": [
        {
          "output_type": "stream",
          "name": "stdout",
          "text": [
            "Sorted in ascending order: [10, 20, 30, 40, 50]\n",
            "Sorted in descending order: [50, 40, 30, 20, 10]\n"
          ]
        }
      ]
    },
    {
      "cell_type": "code",
      "source": [
        "my_string = \"sharath!\"\n",
        "string_length = len(my_string)\n",
        "print(\"Length of the string:\", string_length)\n"
      ],
      "metadata": {
        "colab": {
          "base_uri": "https://localhost:8080/"
        },
        "id": "0dA8ouBN_WTR",
        "outputId": "116a9a24-bc87-44f5-eb16-9bd1370e40e0"
      },
      "execution_count": 14,
      "outputs": [
        {
          "output_type": "stream",
          "name": "stdout",
          "text": [
            "Length of the string: 8\n"
          ]
        }
      ]
    },
    {
      "cell_type": "code",
      "source": [
        "my_list = [10, 20, 30, 40, 50]\n",
        "my_list.reverse()\n",
        "print(\"Reversed list:\", my_list)\n"
      ],
      "metadata": {
        "colab": {
          "base_uri": "https://localhost:8080/"
        },
        "id": "dhun7aOa_mf5",
        "outputId": "4d1fa7fb-1e5c-4d98-ae7a-d1f5df1041f0"
      },
      "execution_count": 15,
      "outputs": [
        {
          "output_type": "stream",
          "name": "stdout",
          "text": [
            "Reversed list: [50, 40, 30, 20, 10]\n"
          ]
        }
      ]
    }
  ]
}