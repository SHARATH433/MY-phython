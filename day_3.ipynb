{
  "nbformat": 4,
  "nbformat_minor": 0,
  "metadata": {
    "colab": {
      "provenance": []
    },
    "kernelspec": {
      "name": "python3",
      "display_name": "Python 3"
    },
    "language_info": {
      "name": "python"
    }
  },
  "cells": [
    {
      "cell_type": "code",
      "execution_count": 3,
      "metadata": {
        "colab": {
          "base_uri": "https://localhost:8080/"
        },
        "id": "ScXAhvM_7CWp",
        "outputId": "e22d4165-eadc-4c19-9a1a-f4a8b40d40c9"
      },
      "outputs": [
        {
          "output_type": "stream",
          "name": "stdout",
          "text": [
            "Enter a number: 8\n",
            "8 is not a prime number.\n"
          ]
        }
      ],
      "source": [
        "def is_prime(n):\n",
        "    if n <= 1:\n",
        "        return False\n",
        "    for i in range(2, int(n**0.5) + 1):\n",
        "        if n % i == 0:\n",
        "            return False\n",
        "            return True\n",
        "n = int(input(\"Enter a number: \"))\n",
        "if is_prime(n):\n",
        "    print(f\"{n} is a prime number.\")\n",
        "else:\n",
        "    print(f\"{n} is not a prime number.\")\n"
      ]
    },
    {
      "cell_type": "code",
      "source": [
        "def pen(num):\n",
        "  if num<=1:\n",
        "    print(\"neither prime nor composite\")\n",
        "  for i in range(2,int(num**0.5)+1):\n",
        "   if num%i==0:\n",
        "      print(\"not prime\")\n",
        "  else:\n",
        "      print(\"prime\")\n",
        "num=int(input(\"enter a number\"))\n",
        "\n",
        "\n",
        "\n",
        "\n"
      ],
      "metadata": {
        "colab": {
          "base_uri": "https://localhost:8080/"
        },
        "id": "3DICKMrI-Tuo",
        "outputId": "a4e21a0f-5925-4d88-f198-8faf4d0c9a2f"
      },
      "execution_count": 27,
      "outputs": [
        {
          "name": "stdout",
          "output_type": "stream",
          "text": [
            "enter a number8\n"
          ]
        }
      ]
    },
    {
      "cell_type": "code",
      "source": [
        "def pen(num):\n",
        "  if num<=1:\n",
        "    print(\"neither prime nor composite\")\n",
        "  for i in range(2,int(num**0.5)+1):\n",
        "   if num%i==0:1:\n",
        "    print(\"not prime\")\n",
        "  else:\n",
        "    print(\"prime\")\n",
        "  num=int(input(\"enter a number\"))\n",
        "\n",
        "\n",
        "\n",
        "\n"
      ],
      "metadata": {
        "id": "hiWXnp_yHNlG"
      },
      "execution_count": null,
      "outputs": []
    },
    {
      "cell_type": "code",
      "source": [
        "a=5\n",
        "a=5\n",
        "a=5\n",
        "a=5\n",
        "b=2\n",
        "print(f\"frist number is {a} and second number is {b}\")\n",
        "print(f\"\"\"\n",
        "frist number is {a}\n",
        "second number is {b}\n",
        "\"\"\")\n"
      ],
      "metadata": {
        "colab": {
          "base_uri": "https://localhost:8080/"
        },
        "id": "gEMZjdiOH3HO",
        "outputId": "84a95fc3-224d-4f56-d5ca-27e20d818a96"
      },
      "execution_count": 46,
      "outputs": [
        {
          "output_type": "stream",
          "name": "stdout",
          "text": [
            "frist number is 5 and second number is 2\n",
            "\n",
            "frist number is 5\n",
            "second number is 2\n",
            "\n"
          ]
        }
      ]
    },
    {
      "cell_type": "code",
      "source": [],
      "metadata": {
        "id": "f6fUKpEKJAQE"
      },
      "execution_count": null,
      "outputs": []
    },
    {
      "cell_type": "code",
      "source": [
        "def pen(num):\n",
        "  if num<=1:\n",
        "    print(\"neither prime nor composite\")\n",
        "  for i in range(2,int(num**0.5)+1):\n",
        "   if num%i==0:\n",
        "      print(\"not prime\")\n",
        "  else:\n",
        "      print(\"prime\")\n",
        "num=int(input(\"enter a number\"))\n",
        "\n",
        "\n",
        "\n",
        "\n"
      ],
      "metadata": {
        "colab": {
          "base_uri": "https://localhost:8080/"
        },
        "outputId": "a4e21a0f-5925-4d88-f198-8faf4d0c9a2f",
        "id": "5OhTaAwkJWrx"
      },
      "execution_count": null,
      "outputs": [
        {
          "name": "stdout",
          "output_type": "stream",
          "text": [
            "enter a number8\n"
          ]
        }
      ]
    },
    {
      "cell_type": "code",
      "source": [],
      "metadata": {
        "id": "L80ybd79JZ9f"
      },
      "execution_count": null,
      "outputs": []
    },
    {
      "cell_type": "code",
      "source": [
        "\n",
        "def pen(num):\n",
        "  if num<=1:\n",
        "    print(\"neither prime nor composite\")\n",
        "  for i in range(2,int(num**0.5)+1):\n",
        "   if num%i==0:\n",
        "      print(\"not prime\")\n",
        "  else:\n",
        "      print(\"prime\")\n",
        "num=int(input(\"enter a number\"))\n",
        "\n",
        "\n",
        "\n",
        "\n"
      ],
      "metadata": {
        "colab": {
          "base_uri": "https://localhost:8080/"
        },
        "outputId": "3143e97f-96b9-43c3-cc3a-7b702d0cc946",
        "id": "13ao1IVcJaxf"
      },
      "execution_count": 47,
      "outputs": [
        {
          "name": "stdout",
          "output_type": "stream",
          "text": [
            "enter a number5\n"
          ]
        }
      ]
    },
    {
      "cell_type": "code",
      "source": [
        "def fibonacci(n):\n",
        "    a, b = 0, 1\n",
        "    for _ in range(n):\n",
        "        print(a, end=\" \")\n",
        "        a, b = b, a + b\n",
        "n = 4\n",
        "print(\"Fibonacci sequence:\")\n",
        "fibonacci(n)\n"
      ],
      "metadata": {
        "colab": {
          "base_uri": "https://localhost:8080/"
        },
        "id": "G5c8UQE6JZ1t",
        "outputId": "2b699835-3aeb-44e9-ed2a-c55b97721530"
      },
      "execution_count": 50,
      "outputs": [
        {
          "output_type": "stream",
          "name": "stdout",
          "text": [
            "Fibonacci sequence:\n",
            "0 1 1 2 "
          ]
        }
      ]
    },
    {
      "cell_type": "code",
      "source": [
        "term = int (input(\"terms:\"))\n",
        "c=fibonacci(terms)\n",
        "print(c)"
      ],
      "metadata": {
        "id": "nBKecVo3JlQm"
      },
      "execution_count": null,
      "outputs": []
    },
    {
      "cell_type": "code",
      "source": [
        "import math\n",
        "angle = float (input(\"enter an angle in degrees: \"))\n",
        "radian = math.radians(angle)\n",
        "print(\"sine :\",math.sin(radian))\n",
        "print(\"cosine:\",math.cos(radian))\n"
      ],
      "metadata": {
        "colab": {
          "base_uri": "https://localhost:8080/"
        },
        "id": "mpzOQlrxLL7K",
        "outputId": "8be79788-c8da-4f5f-f9b9-824b6b3bffa0"
      },
      "execution_count": 55,
      "outputs": [
        {
          "output_type": "stream",
          "name": "stdout",
          "text": [
            "enter an angle in degrees: 41\n",
            "sine : 0.6560590289905073\n",
            "cosine: 0.754709580222772\n"
          ]
        }
      ]
    }
  ]
}