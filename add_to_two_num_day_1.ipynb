{
  "nbformat": 4,
  "nbformat_minor": 0,
  "metadata": {
    "colab": {
      "provenance": []
    },
    "kernelspec": {
      "name": "python3",
      "display_name": "Python 3"
    },
    "language_info": {
      "name": "python"
    }
  },
  "cells": [
    {
      "cell_type": "code",
      "execution_count": 14,
      "metadata": {
        "colab": {
          "base_uri": "https://localhost:8080/"
        },
        "id": "1QrNe_klNfSi",
        "outputId": "31f3a424-7a9c-4728-fdfa-a3f9a0e69092"
      },
      "outputs": [
        {
          "output_type": "stream",
          "name": "stdout",
          "text": [
            "enter first number:43\n",
            "enter second number:76\n",
            "the sum is: 119\n"
          ]
        }
      ],
      "source": [
        "num1=int(input(\"enter first number:\"))\n",
        "num2=int(input(\"enter second number:\"))\n",
        "result=num1+num2\n",
        "print(\"the sum is:\",result)"
      ]
    },
    {
      "cell_type": "code",
      "source": [
        "a=int(input(\"enter a\"))\n",
        "b =int(input(\"enter b\"))\n",
        "print(\"addition result\",a+b)\n",
        "print(\"multiplicatoion=\",a*b)\n",
        "print(\"division=\",a/b)\n",
        "print(\"division=\",a//b)\n",
        "print(\"division=\",a%b)\n",
        "#print(\"substraction=\" ,a-b)"
      ],
      "metadata": {
        "colab": {
          "base_uri": "https://localhost:8080/"
        },
        "id": "iU8XEKxRUqyj",
        "outputId": "709e563a-d6be-4836-d6cb-2629b7634ca7"
      },
      "execution_count": 18,
      "outputs": [
        {
          "output_type": "stream",
          "name": "stdout",
          "text": [
            "enter a3\n",
            "enter b2\n",
            "addition result 5\n",
            "multiplicatoion= 6\n",
            "division= 1.5\n",
            "division= 1\n",
            "division= 1\n"
          ]
        }
      ]
    },
    {
      "cell_type": "code",
      "source": [
        "import math\n",
        "\n",
        "# Function to calculate the area of a circle\n",
        "def area_of_circle(radius):\n",
        "    return math.pi * radius ** 2\n",
        "\n",
        "# Function to calculate the circumference of a circle\n",
        "def circumference_of_circle(radius):\n",
        "    return 2 * math.pi * radius\n",
        "\n",
        "# Input: radius of the circle\n",
        "radius = float(input(\"Enter the radius of the circle: \"))\n",
        "\n",
        "# Calculating area and circumference\n",
        "area = area_of_circle(radius)\n",
        "circumference = circumference_of_circle(radius)\n",
        "\n",
        "# Displaying the results\n",
        "print(f\"Area of the circle: {area:.2f}\")\n",
        "print(f\"Circumference of the circle: {circumference:.2f}\")\n",
        "\n"
      ],
      "metadata": {
        "colab": {
          "base_uri": "https://localhost:8080/"
        },
        "id": "zAsDigxLZNq5",
        "outputId": "19f108d6-a29e-4b30-a3e6-23cd5a4756fc"
      },
      "execution_count": 23,
      "outputs": [
        {
          "output_type": "stream",
          "name": "stdout",
          "text": [
            "Enter the radius of the circle: 34\n",
            "Area of the circle: 3631.68\n",
            "Circumference of the circle: 213.63\n"
          ]
        }
      ]
    },
    {
      "cell_type": "code",
      "source": [
        "celces=float(input(\"enter the digree ceices\"))\n",
        "faren=(celces*9/5)+32\n",
        "print(\"temperature in faren\",faren)"
      ],
      "metadata": {
        "colab": {
          "base_uri": "https://localhost:8080/"
        },
        "id": "YBWFiZv-bZxb",
        "outputId": "ef0a0b06-fb85-4575-be71-fb3c77e47d96"
      },
      "execution_count": 24,
      "outputs": [
        {
          "output_type": "stream",
          "name": "stdout",
          "text": [
            "enter the digree ceices23\n",
            "temperature in faren 73.4\n"
          ]
        }
      ]
    },
    {
      "cell_type": "code",
      "source": [
        "faren =float(input(\"enter the degree celces\"))\n",
        "celces =(faren-32)*5/9\n",
        "print(\"degree in celces \",celces)"
      ],
      "metadata": {
        "colab": {
          "base_uri": "https://localhost:8080/"
        },
        "id": "MN6ZlQzEdSDF",
        "outputId": "b9a581f3-0f28-4d6d-cc3e-676949d99c02"
      },
      "execution_count": 25,
      "outputs": [
        {
          "output_type": "stream",
          "name": "stdout",
          "text": [
            "enter the degree celces23\n",
            "degree in celces  -5.0\n"
          ]
        }
      ]
    },
    {
      "cell_type": "code",
      "source": [
        "# Function to calculate BMI\n",
        "def calculate_bmi(weight, height):\n",
        "    return weight / (height ** 2)\n",
        "\n",
        "# Input: Weight (in kg) and Height (in meters)\n",
        "weight = float(input(\"Enter your weight (kg): \"))\n",
        "height = float(input(\"Enter your height (in meters): \"))\n",
        "\n",
        "# Calculate BMI\n",
        "bmi = calculate_bmi(weight, height)\n",
        "\n",
        "# Display the result\n",
        "print(f\"Your BMI is: {bmi:.2f}\")\n",
        "\n",
        "# Interpret the BMI result\n",
        "if bmi < 18.5:\n",
        "    print(\"You are underweight.\")\n",
        "elif 18.5 <= bmi < 24.9:\n",
        "    print(\"You have a normal weight.\")\n",
        "elif 25 <= bmi < 29.9:\n",
        "    print(\"You are overweight.\")\n",
        "else:\n",
        "    print(\"You are obese.\")\n"
      ],
      "metadata": {
        "colab": {
          "base_uri": "https://localhost:8080/"
        },
        "id": "j776VzVneWCx",
        "outputId": "6043d876-25d5-4f26-e02d-f79c34ec637c"
      },
      "execution_count": 30,
      "outputs": [
        {
          "output_type": "stream",
          "name": "stdout",
          "text": [
            "Enter your weight (kg): 73\n",
            "Enter your height (in meters): 1.5\n",
            "Your BMI is: 32.44\n",
            "You are obese.\n"
          ]
        }
      ]
    }
  ]
}