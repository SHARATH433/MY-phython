{
  "nbformat": 4,
  "nbformat_minor": 0,
  "metadata": {
    "colab": {
      "provenance": []
    },
    "kernelspec": {
      "name": "python3",
      "display_name": "Python 3"
    },
    "language_info": {
      "name": "python"
    }
  },
  "cells": [
    {
      "cell_type": "code",
      "source": [
        "\n",
        "user_input = input(\"Enter some text to write to the file: \")\n",
        "with open(\"user_input.txt\", \"w\") as file:\n",
        "\n",
        "    file.write(user_input)\n",
        "\n",
        "print(\"Your input has been written to 'user_input.txt'\")\n"
      ],
      "metadata": {
        "colab": {
          "base_uri": "https://localhost:8080/"
        },
        "id": "8FHkLNFNeXlB",
        "outputId": "b26cc60e-9f6b-49f7-983a-04c8625badfd"
      },
      "execution_count": 6,
      "outputs": [
        {
          "output_type": "stream",
          "name": "stdout",
          "text": [
            "Enter some text to write to the file: 3\n",
            "Your input has been written to 'user_input.txt'\n"
          ]
        }
      ]
    },
    {
      "cell_type": "code",
      "source": [
        "user_input = input(\"Enter some text to append to the file: \")\n",
        "with open(\"example.txt\", \"a\") as file:\n",
        "\n",
        "    file.write(user_input + \"\\n\")\n",
        "\n",
        "print(\"Your input has been appended to 'example.txt'\")\n"
      ],
      "metadata": {
        "colab": {
          "base_uri": "https://localhost:8080/"
        },
        "id": "dfgfhxO2etg1",
        "outputId": "99dd764a-e0da-40fa-c424-3d64eb7e2fff"
      },
      "execution_count": 7,
      "outputs": [
        {
          "output_type": "stream",
          "name": "stdout",
          "text": [
            "Enter some text to append to the file: 6\n",
            "Your input has been appended to 'example.txt'\n"
          ]
        }
      ]
    },
    {
      "cell_type": "code",
      "source": [
        "try:\n",
        "    with open(\"source.txt\", \"r\") as src_file:\n",
        "        content = src_file.read()\n",
        "    with open(\"destination.txt\", \"w\") as dest_file:\n",
        "        dest_file.write(content)\n",
        "    print(\"Contents copied successfully.\")\n",
        "except FileNotFoundError:\n",
        "    print(\"Source file good not found.\")\n"
      ],
      "metadata": {
        "colab": {
          "base_uri": "https://localhost:8080/"
        },
        "id": "RJ4K0JkVfWOT",
        "outputId": "d6d312de-c473-4482-fcab-3b016841e4ac"
      },
      "execution_count": 9,
      "outputs": [
        {
          "output_type": "stream",
          "name": "stdout",
          "text": [
            "Source file good not found.\n"
          ]
        }
      ]
    },
    {
      "cell_type": "code",
      "source": [
        "try:\n",
        "    with open(\"example.txt\", \"r\") as file:\n",
        "        lines = file.readlines()\n",
        "        print(f\"Number of lines: {len(lines)}\")\n",
        "except FileNotFoundError:\n",
        "    print(\"File not found.\")\n"
      ],
      "metadata": {
        "colab": {
          "base_uri": "https://localhost:8080/"
        },
        "id": "OxtLv4zSh9uG",
        "outputId": "bb29f3ba-1560-4ec9-a0b2-a58c55da6828"
      },
      "execution_count": 10,
      "outputs": [
        {
          "output_type": "stream",
          "name": "stdout",
          "text": [
            "Number of lines: 1\n"
          ]
        }
      ]
    },
    {
      "cell_type": "code",
      "source": [
        "try:\n",
        "    with open(\"example.txt\", \"r\") as file:\n",
        "        content = file.read()\n",
        "        words = content.split()\n",
        "        print(f\"Number of words: {len(words)}\")\n",
        "except FileNotFoundError:\n",
        "    print(\"File not found.\")\n"
      ],
      "metadata": {
        "colab": {
          "base_uri": "https://localhost:8080/"
        },
        "id": "SA2VcrEHiB5x",
        "outputId": "e0a96fc5-c29d-4453-e80b-fdb93431eb90"
      },
      "execution_count": 11,
      "outputs": [
        {
          "output_type": "stream",
          "name": "stdout",
          "text": [
            "Number of words: 1\n"
          ]
        }
      ]
    },
    {
      "cell_type": "code",
      "source": [
        "try:\n",
        "    with open(\"example.txt\", \"r\") as file:\n",
        "        content = file.read()\n",
        "        print(f\"Number of characters:(len(content))\")\n",
        "except FileNotFoundError:\n",
        "    print(\"File not found.\")\n"
      ],
      "metadata": {
        "colab": {
          "base_uri": "https://localhost:8080/"
        },
        "id": "4msteezCiICJ",
        "outputId": "c50d8b58-7d1e-4eaf-9d64-6a8735a3a549"
      },
      "execution_count": 15,
      "outputs": [
        {
          "output_type": "stream",
          "name": "stdout",
          "text": [
            "Number of characters:(len(content))\n"
          ]
        }
      ]
    },
    {
      "cell_type": "code",
      "source": [
        "old_word = input(\"Enter the word to be replaced: \")\n",
        "new_word = input(\"Enter the new word: \")\n",
        "\n",
        "try:\n",
        "    with open(\"example.txt\", \"r\") as file:\n",
        "        content = file.read()\n",
        "    content = content.replace(old_word, new_word)\n",
        "    with open(\"example.txt\", \"w\") as file:\n",
        "        file.write(content)\n",
        "    print(\"Word replaced successfully.\")\n",
        "except FileNotFoundError:\n",
        "    print(\"File not found.\")\n"
      ],
      "metadata": {
        "colab": {
          "base_uri": "https://localhost:8080/"
        },
        "id": "ygExvO_2ifUX",
        "outputId": "817d1c3c-4acd-4be2-b73d-54b5a1ffc21d"
      },
      "execution_count": 16,
      "outputs": [
        {
          "output_type": "stream",
          "name": "stdout",
          "text": [
            "Enter the word to be replaced: 3\n",
            "Enter the new word: 5\n",
            "Word replaced successfully.\n"
          ]
        }
      ]
    },
    {
      "cell_type": "code",
      "source": [
        "try:\n",
        "    with open(\"example.txt\", \"r\") as file:\n",
        "        for line in file:\n",
        "            print(line, end=\"\")\n",
        "except FileNotFoundError:\n",
        "    print(\"File not found.\")\n"
      ],
      "metadata": {
        "colab": {
          "base_uri": "https://localhost:8080/"
        },
        "id": "F1rcb5tXipX3",
        "outputId": "5ce9b4ab-e59d-4bef-8b3f-1c24da096c22"
      },
      "execution_count": 17,
      "outputs": [
        {
          "output_type": "stream",
          "name": "stdout",
          "text": [
            "6\n"
          ]
        }
      ]
    },
    {
      "cell_type": "code",
      "source": [
        "import os\n",
        "\n",
        "if os.path.exists(\"example.txt\"):\n",
        "    print(\"File exists.\")\n",
        "else:\n",
        "    print(\"File does not exist.\")\n"
      ],
      "metadata": {
        "colab": {
          "base_uri": "https://localhost:8080/"
        },
        "id": "jBEZWA-YitFt",
        "outputId": "9c82a4f4-6cfd-4f3c-f994-60a1a2eb3040"
      },
      "execution_count": 18,
      "outputs": [
        {
          "output_type": "stream",
          "name": "stdout",
          "text": [
            "File exists.\n"
          ]
        }
      ]
    },
    {
      "cell_type": "code",
      "source": [
        "try:\n",
        "    with open(\"non_existent_file.txt\", \"r\") as file:\n",
        "        content = file.read()\n",
        "except FileNotFoundError:\n",
        "    print(\"File not found!\")\n"
      ],
      "metadata": {
        "colab": {
          "base_uri": "https://localhost:8080/"
        },
        "id": "xO1GK2-yiwQ4",
        "outputId": "a0b98c6d-3224-4e0e-e7e8-cd5c0e0d6584"
      },
      "execution_count": 19,
      "outputs": [
        {
          "output_type": "stream",
          "name": "stdout",
          "text": [
            "File not found!\n"
          ]
        }
      ]
    },
    {
      "cell_type": "code",
      "source": [
        "try:\n",
        "    num = int(input(\"Enter a number: \"))\n",
        "    denom = int(input(\"Enter the denominator: \"))\n",
        "    result = num / denom\n",
        "    print(f\"Result: {result}\")\n",
        "except ZeroDivisionError:\n",
        "    print(\"Error: Cannot divide by zero.\")\n",
        "except ValueError:\n",
        "    print(\"Invalid input, please enter integers.\")\n"
      ],
      "metadata": {
        "colab": {
          "base_uri": "https://localhost:8080/"
        },
        "id": "Pe4hurRNiyuZ",
        "outputId": "706f40b5-6bb1-41f9-b01c-307f3d763139"
      },
      "execution_count": 20,
      "outputs": [
        {
          "output_type": "stream",
          "name": "stdout",
          "text": [
            "Enter a number: 2\n",
            "Enter the denominator: 8\n",
            "Result: 0.25\n"
          ]
        }
      ]
    },
    {
      "cell_type": "code",
      "source": [
        "try:\n",
        "    user_input = input(\"Enter a number: \")\n",
        "    num = int(user_input)\n",
        "    print(f\"You entered: {num}\")\n",
        "except ValueError:\n",
        "    print(\"Invalid input. Please enter a valid integer.\")\n"
      ],
      "metadata": {
        "colab": {
          "base_uri": "https://localhost:8080/"
        },
        "id": "73SfBKCIi2l8",
        "outputId": "4f97aa7c-d449-4732-e878-8c81a5a22807"
      },
      "execution_count": 21,
      "outputs": [
        {
          "output_type": "stream",
          "name": "stdout",
          "text": [
            "Enter a number: 23\n",
            "You entered: 23\n"
          ]
        }
      ]
    },
    {
      "cell_type": "code",
      "source": [
        "try:\n",
        "    with open(\"file.txt\", \"r\") as file:\n",
        "        content = file.read()\n",
        "    num = int(input(\"Enter a number: \"))\n",
        "    print(content)\n",
        "except FileNotFoundError:\n",
        "    print(\"File not found!\")\n",
        "except ValueError:\n",
        "    print(\"Invalid input, please enter a valid number.\")\n"
      ],
      "metadata": {
        "colab": {
          "base_uri": "https://localhost:8080/"
        },
        "id": "mVBJdj0Yi6rs",
        "outputId": "2eff48e0-48a3-4f0c-84dc-d46a51819d5b"
      },
      "execution_count": 22,
      "outputs": [
        {
          "output_type": "stream",
          "name": "stdout",
          "text": [
            "File not found!\n"
          ]
        }
      ]
    },
    {
      "cell_type": "code",
      "source": [
        "try:\n",
        "    file = open(\"example.txt\", \"r\")\n",
        "    content = file.read()\n",
        "    print(content)\n",
        "except FileNotFoundError:\n",
        "    print(\"File not found.\")\n",
        "finally:\n",
        "    file.close()\n",
        "    print(\"File closed.\")\n"
      ],
      "metadata": {
        "colab": {
          "base_uri": "https://localhost:8080/"
        },
        "id": "ePU1IeI2i-VD",
        "outputId": "6b70b34a-9863-449e-8df5-c6efa09b72ca"
      },
      "execution_count": 23,
      "outputs": [
        {
          "output_type": "stream",
          "name": "stdout",
          "text": [
            "6\n",
            "\n",
            "File closed.\n"
          ]
        }
      ]
    },
    {
      "cell_type": "code",
      "source": [
        "class NegativeNumberError(Exception):\n",
        "    pass\n",
        "\n",
        "try:\n",
        "    number = int(input(\"Enter a positive number: \"))\n",
        "    if number < 0:\n",
        "        raise NegativeNumberError(\"Negative number is not allowed!\")\n",
        "except NegativeNumberError as e:\n",
        "    print(e)\n",
        "except ValueError:\n",
        "    print(\"Please enter a valid integer.\")\n"
      ],
      "metadata": {
        "colab": {
          "base_uri": "https://localhost:8080/"
        },
        "id": "h3g6Y2E0jBJR",
        "outputId": "0b6120f4-618a-4d41-f8bd-b2daab83317d"
      },
      "execution_count": 24,
      "outputs": [
        {
          "name": "stdout",
          "output_type": "stream",
          "text": [
            "Enter a positive number: 70\n"
          ]
        }
      ]
    },
    {
      "cell_type": "code",
      "source": [
        "\n",
        "data = bytearray([65, 66, 67, 68, 69])\n",
        "with open(\"binary_file.bin\", \"wb\") as file:\n",
        "    file.write(data)\n",
        "with open(\"binary_file.bin\", \"rb\") as file:\n",
        "    content = file.read()\n",
        "    print(content)\n"
      ],
      "metadata": {
        "colab": {
          "base_uri": "https://localhost:8080/"
        },
        "id": "N1Lw1zCtjFY-",
        "outputId": "b52a32fc-926c-4a22-ecb2-555e75b4b1f4"
      },
      "execution_count": 25,
      "outputs": [
        {
          "output_type": "stream",
          "name": "stdout",
          "text": [
            "b'ABCDE'\n"
          ]
        }
      ]
    },
    {
      "cell_type": "code",
      "source": [
        "import csv\n",
        "\n",
        "data = [[\"Name\", \"Age\"], [\"Alice\", 25], [\"Bob\", 30]]\n",
        "with open(\"people.csv\", \"w\", newline=\"\") as file:\n",
        "    writer = csv.writer(file)\n",
        "    writer.writerows(data)\n",
        "print(\"CSV file has been written.\")\n"
      ],
      "metadata": {
        "colab": {
          "base_uri": "https://localhost:8080/"
        },
        "id": "FQ3Z3-6ujMzD",
        "outputId": "5f0a00e2-6d7f-4e0b-fa12-9d4e98e5d418"
      },
      "execution_count": 26,
      "outputs": [
        {
          "output_type": "stream",
          "name": "stdout",
          "text": [
            "CSV file has been written.\n"
          ]
        }
      ]
    },
    {
      "cell_type": "code",
      "source": [
        "import csv\n",
        "\n",
        "with open(\"people.csv\", \"r\") as file:\n",
        "    reader = csv.reader(file)\n",
        "    for row in reader:\n",
        "        print(row)\n"
      ],
      "metadata": {
        "colab": {
          "base_uri": "https://localhost:8080/"
        },
        "id": "pTOjDoAcjQQu",
        "outputId": "57b92a60-b787-4635-f8a1-a54358054333"
      },
      "execution_count": 27,
      "outputs": [
        {
          "output_type": "stream",
          "name": "stdout",
          "text": [
            "['Name', 'Age']\n",
            "['Alice', '25']\n",
            "['Bob', '30']\n"
          ]
        }
      ]
    },
    {
      "cell_type": "code",
      "source": [
        "my_list = [1, 2, 3]\n",
        "try:\n",
        "    print(my_list[5])\n",
        "except IndexError:\n",
        "    print(\"Index out of range!\")\n"
      ],
      "metadata": {
        "colab": {
          "base_uri": "https://localhost:8080/"
        },
        "id": "TaLO5dp9jS4G",
        "outputId": "3cb6a588-d133-4231-b442-44039b5360dd"
      },
      "execution_count": 28,
      "outputs": [
        {
          "output_type": "stream",
          "name": "stdout",
          "text": [
            "Index out of range!\n"
          ]
        }
      ]
    },
    {
      "cell_type": "code",
      "source": [
        "my_dict = {\"name\": \"Alice\", \"age\": 25}\n",
        "try:\n",
        "    print(my_dict[\"address\"])\n",
        "except KeyError:\n",
        "    print(\"Key not found!\")\n"
      ],
      "metadata": {
        "colab": {
          "base_uri": "https://localhost:8080/"
        },
        "id": "dzpqNhnojkQX",
        "outputId": "5c3845d8-13be-450b-c787-206a0020522e"
      },
      "execution_count": 29,
      "outputs": [
        {
          "output_type": "stream",
          "name": "stdout",
          "text": [
            "Key not found!\n"
          ]
        }
      ]
    },
    {
      "cell_type": "code",
      "source": [
        "with open(\"example.txt\", \"r\") as file:\n",
        "    content = file.read()\n",
        "    print(content)\n"
      ],
      "metadata": {
        "colab": {
          "base_uri": "https://localhost:8080/"
        },
        "id": "dkfJway5jnKU",
        "outputId": "6ef0a6ed-91c4-4bea-c6d1-cf93cdee3a51"
      },
      "execution_count": 32,
      "outputs": [
        {
          "output_type": "stream",
          "name": "stdout",
          "text": [
            "6\n",
            "\n"
          ]
        }
      ]
    },
    {
      "cell_type": "code",
      "source": [
        "word_to_count = input(\"Enter the word to count: \")\n",
        "\n",
        "try:\n",
        "    with open(\"example.txt\", \"r\") as file:\n",
        "        content = file.read()\n",
        "        word_count = content.lower().split().count(word_to_count.lower())\n",
        "    print(f\"The word '{word_to_count}' appears {word_count} times.\")\n",
        "except FileNotFoundError:\n",
        "    print(\"File not found.\")\n"
      ],
      "metadata": {
        "colab": {
          "base_uri": "https://localhost:8080/"
        },
        "id": "WGT15-4_j2FC",
        "outputId": "c22825c7-bcb3-4334-f50e-1b63401f16b0"
      },
      "execution_count": 33,
      "outputs": [
        {
          "output_type": "stream",
          "name": "stdout",
          "text": [
            "Enter the word to count: 8\n",
            "The word '8' appears 0 times.\n"
          ]
        }
      ]
    },
    {
      "cell_type": "code",
      "source": [
        "try:\n",
        "    with open(\"file1.txt\", \"r\") as file1, open(\"file2.txt\", \"r\") as file2, open(\"merged.txt\", \"w\") as merged_file:\n",
        "        content1 = file1.read()\n",
        "        content2 = file2.read()\n",
        "        merged_file.write(content1 + \"\\n\" + content2)\n",
        "    print(\"Files merged successfully.\")\n",
        "except FileNotFoundError:\n",
        "    print(\"One or both files not found.\")\n"
      ],
      "metadata": {
        "colab": {
          "base_uri": "https://localhost:8080/"
        },
        "id": "R6Nej0coj5db",
        "outputId": "d7962a18-a96a-4545-8f38-c48404d8337a"
      },
      "execution_count": 34,
      "outputs": [
        {
          "output_type": "stream",
          "name": "stdout",
          "text": [
            "One or both files not found.\n"
          ]
        }
      ]
    },
    {
      "cell_type": "code",
      "source": [
        "import json\n",
        "\n",
        "try:\n",
        "    with open(\"data.json\", \"r\") as file:\n",
        "        data = json.load(file)\n",
        "        print(data)\n",
        "except FileNotFoundError:\n",
        "    print(\"File not found.\")\n",
        "except json.JSONDecodeError:\n",
        "    print(\"Error decoding JSON.\")\n"
      ],
      "metadata": {
        "colab": {
          "base_uri": "https://localhost:8080/"
        },
        "id": "1JJEYAfTj8HC",
        "outputId": "fcc984a6-7d2a-4100-bd53-2cfc112b6e33"
      },
      "execution_count": 35,
      "outputs": [
        {
          "output_type": "stream",
          "name": "stdout",
          "text": [
            "File not found.\n"
          ]
        }
      ]
    },
    {
      "cell_type": "code",
      "source": [
        "try:\n",
        "    with open(\"example.txt\", \"r\") as file:\n",
        "        content = file.read()\n",
        "        print(content)\n",
        "except FileNotFoundError:\n",
        "    print(\"File not found.\")\n"
      ],
      "metadata": {
        "colab": {
          "base_uri": "https://localhost:8080/"
        },
        "id": "UjXzRGEkkI9U",
        "outputId": "55f72f58-7a60-4a8f-be94-a4f863b1f8bf"
      },
      "execution_count": 36,
      "outputs": [
        {
          "output_type": "stream",
          "name": "stdout",
          "text": [
            "6\n",
            "\n"
          ]
        }
      ]
    }
  ]
}