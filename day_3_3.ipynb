{
  "nbformat": 4,
  "nbformat_minor": 0,
  "metadata": {
    "colab": {
      "provenance": []
    },
    "kernelspec": {
      "name": "python3",
      "display_name": "Python 3"
    },
    "language_info": {
      "name": "python"
    }
  },
  "cells": [
    {
      "cell_type": "code",
      "execution_count": 2,
      "metadata": {
        "id": "Tg7K0xsaiutO"
      },
      "outputs": [],
      "source": [
        "def add_numbers(num1, num2):\n",
        "    return num1 + num2\n"
      ]
    },
    {
      "cell_type": "code",
      "source": [
        "def greet():\n",
        "    print(\"Hello, Python\")\n",
        "greet()"
      ],
      "metadata": {
        "colab": {
          "base_uri": "https://localhost:8080/"
        },
        "id": "C7iZEPuuj70p",
        "outputId": "4ced132e-7c28-4aef-d998-19dde41d7193"
      },
      "execution_count": 13,
      "outputs": [
        {
          "output_type": "stream",
          "name": "stdout",
          "text": [
            "Hello, Python\n"
          ]
        }
      ]
    },
    {
      "cell_type": "code",
      "source": [
        "def is_prime(num):\n",
        "    if num <= 1:\n",
        "        return False\n",
        "    for i in range(2, int(num ** 0.5) + 1):\n",
        "        if num % i == 0:\n",
        "            return False\n",
        "    return True\n"
      ],
      "metadata": {
        "id": "ttPQ7fc7lE7c"
      },
      "execution_count": 7,
      "outputs": []
    },
    {
      "cell_type": "code",
      "source": [
        "def fibonacci(n):\n",
        "    fib_sequence = []\n",
        "    a, b = 0, 1\n",
        "    for _ in range(n):\n",
        "        fib_sequence.append(a)\n",
        "        a, b = b, a + b\n",
        "    return fib_sequence\n",
        "\n"
      ],
      "metadata": {
        "id": "C6T08ZhBlUWg"
      },
      "execution_count": 10,
      "outputs": []
    },
    {
      "cell_type": "code",
      "source": [
        "def is_armstrong(num):\n",
        "    num_str = str(num)\n",
        "    num_digits = len(num_str)\n",
        "    sum_of_powers = sum(int(digit) ** num_digits for digit in num_str)\n",
        "    return sum_of_powers == num\n"
      ],
      "metadata": {
        "id": "2Dbni71plqvO"
      },
      "execution_count": 11,
      "outputs": []
    },
    {
      "cell_type": "code",
      "source": [],
      "metadata": {
        "id": "CFnhHvV_mF8N"
      },
      "execution_count": null,
      "outputs": []
    }
  ]
}