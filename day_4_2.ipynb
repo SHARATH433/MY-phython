{
  "nbformat": 4,
  "nbformat_minor": 0,
  "metadata": {
    "colab": {
      "provenance": []
    },
    "kernelspec": {
      "name": "python3",
      "display_name": "Python 3"
    },
    "language_info": {
      "name": "python"
    }
  },
  "cells": [
    {
      "cell_type": "code",
      "execution_count": 1,
      "metadata": {
        "colab": {
          "base_uri": "https://localhost:8080/"
        },
        "id": "OtxRuJPvpf6q",
        "outputId": "ce70fd64-dcf6-48b6-9f69-8c0cbf3f11f6"
      },
      "outputs": [
        {
          "output_type": "stream",
          "name": "stdout",
          "text": [
            "[1, 2, 3, 4, 5, 6, 7, 8]\n"
          ]
        }
      ],
      "source": [
        "def merge_and_remove_duplicates(list1, list2):\n",
        "    merged_list = list1 + list2\n",
        "    unique_list = list(set(merged_list))\n",
        "    return unique_list\n",
        "list1 = [1, 2, 3, 4, 5]\n",
        "list2 = [4, 5, 6, 7, 8]\n",
        "\n",
        "result = merge_and_remove_duplicates(list1, list2)\n",
        "print(result)\n"
      ]
    },
    {
      "cell_type": "code",
      "source": [
        "def count_occurrences(lst, element):\n",
        "    return lst.count(element)\n",
        "my_list = [1, 2, 3, 4, 2, 2, 5, 6]\n",
        "element_to_count = 2\n",
        "\n",
        "result = count_occurrences(my_list, element_to_count)\n",
        "print(f\"The element {element_to_count} appears {result} times.\")\n"
      ],
      "metadata": {
        "colab": {
          "base_uri": "https://localhost:8080/"
        },
        "id": "c1VQVnTJqURt",
        "outputId": "8fa108cf-d176-4a68-df22-366858c2466b"
      },
      "execution_count": 2,
      "outputs": [
        {
          "output_type": "stream",
          "name": "stdout",
          "text": [
            "The element 2 appears 3 times.\n"
          ]
        }
      ]
    },
    {
      "cell_type": "code",
      "source": [
        "def sum_of_elements(lst):\n",
        "    return sum(lst)\n",
        "my_list = [1, 2, 3, 4, 5]\n",
        "\n",
        "result = sum_of_elements(my_list)\n",
        "print(f\"The sum of all elements is: {result}\")\n"
      ],
      "metadata": {
        "colab": {
          "base_uri": "https://localhost:8080/"
        },
        "id": "5ursBNtdqhWD",
        "outputId": "0c07160e-01e7-4d22-bd5c-d77040689c82"
      },
      "execution_count": 3,
      "outputs": [
        {
          "output_type": "stream",
          "name": "stdout",
          "text": [
            "The sum of all elements is: 15\n"
          ]
        }
      ]
    },
    {
      "cell_type": "code",
      "source": [
        "def find_largest_and_smallest(lst):\n",
        "    largest = max(lst)\n",
        "    smallest = min(lst)\n",
        "    return largest, smallest\n",
        "my_list = [10, 3, 80, 7, 18, 0, -10]\n",
        "\n",
        "largest, smallest = find_largest_and_smallest(my_list)\n",
        "print(f\"The largest number is: {largest}\")\n",
        "print(f\"The smallest number is: {smallest}\")\n"
      ],
      "metadata": {
        "colab": {
          "base_uri": "https://localhost:8080/"
        },
        "id": "W8Yf8RBsq0qW",
        "outputId": "e0eb23d2-6535-482a-bbed-d418f3c6a000"
      },
      "execution_count": 7,
      "outputs": [
        {
          "output_type": "stream",
          "name": "stdout",
          "text": [
            "The largest number is: 80\n",
            "The smallest number is: -10\n"
          ]
        }
      ]
    },
    {
      "cell_type": "code",
      "source": [
        "def merge_and_remove_duplicates(list1, list2):\n",
        "    merged_list = list1 + list2\n",
        "    unique_list = list(set(merged_list))\n",
        "    return unique_list\n",
        "list1 = [1, 2, 3, 4, 5]\n",
        "list2 = [4, 5, 6, 7, 8]\n"
      ],
      "metadata": {
        "id": "HGd2Ck4rrehg"
      },
      "execution_count": 9,
      "outputs": []
    },
    {
      "cell_type": "code",
      "source": [
        "my_tuple = (1.0, \"sharath\", 3.1, True, \"sri\")\n",
        "print(\"First element:\", my_tuple[0])\n",
        "print(\"Second element:\", my_tuple[1])\n",
        "print(\"Third element:\", my_tuple[2])\n",
        "print(\"Fourth element:\", my_tuple[3])\n",
        "print(\"Fifth element:\", my_tuple[4])\n"
      ],
      "metadata": {
        "colab": {
          "base_uri": "https://localhost:8080/"
        },
        "id": "ROZcjVygr4Un",
        "outputId": "12532361-0849-41a0-d045-f59de6ea3a7a"
      },
      "execution_count": 45,
      "outputs": [
        {
          "output_type": "stream",
          "name": "stdout",
          "text": [
            "First element: 1.0\n",
            "Second element: sharath\n",
            "Third element: 3.1\n",
            "Fourth element: True\n",
            "Fifth element: sri\n"
          ]
        }
      ]
    },
    {
      "cell_type": "code",
      "source": [
        "my_tuple = (1.0, \"sharath\", 3.1, \"true\")\n",
        "num, fruit, pi_value, is_true = my_tuple\n",
        "print(\"Number:\", num)\n",
        "print(\"Fruit:\", fruit)\n",
        "print(\"Pi Value:\", pi_value)\n",
        "print(\"Is True:\", is_true)\n"
      ],
      "metadata": {
        "colab": {
          "base_uri": "https://localhost:8080/"
        },
        "id": "gmfS7qWgtC2F",
        "outputId": "bbc75cc7-8cc1-4095-c5f8-5892f7042784"
      },
      "execution_count": 49,
      "outputs": [
        {
          "output_type": "stream",
          "name": "stdout",
          "text": [
            "Number: 1.0\n",
            "Fruit: sharath\n",
            "Pi Value: 3.1\n",
            "Is True: true\n"
          ]
        }
      ]
    },
    {
      "cell_type": "code",
      "source": [
        "my_tuple = (1, 2, 3, 4, 5)\n",
        "tuple_to_list = list(my_tuple)\n",
        "print(\"Tuple to List:\", tuple_to_list)\n",
        "my_list = [6, 7, 8, 9, 10]\n",
        "list_to_tuple = tuple(my_list)\n",
        "print(\"List to Tuple:\", list_to_tuple)\n"
      ],
      "metadata": {
        "colab": {
          "base_uri": "https://localhost:8080/"
        },
        "id": "WREYJyEPtcQ3",
        "outputId": "aa5d1f80-38d5-4996-c503-602bf07d441b"
      },
      "execution_count": 13,
      "outputs": [
        {
          "output_type": "stream",
          "name": "stdout",
          "text": [
            "Tuple to List: [1, 2, 3, 4, 5]\n",
            "List to Tuple: (6, 7, 8, 9, 10)\n"
          ]
        }
      ]
    },
    {
      "cell_type": "code",
      "source": [
        "my_dict = {\n",
        "    \"name\": \"Alice\",\n",
        "    \"age\": 25,\n",
        "    \"city\": \"New York\"\n",
        "}\n",
        "print(\"Dictionary:\", my_dict)\n"
      ],
      "metadata": {
        "colab": {
          "base_uri": "https://localhost:8080/"
        },
        "id": "kvTWs-GVtuql",
        "outputId": "e523401c-8986-4b6f-cb15-6e48af03d26e"
      },
      "execution_count": 17,
      "outputs": [
        {
          "output_type": "stream",
          "name": "stdout",
          "text": [
            "Dictionary: {'name': 'Alice', 'age': 25, 'city': 'New York'}\n"
          ]
        }
      ]
    },
    {
      "cell_type": "code",
      "source": [
        "my_dict = {\n",
        "    \"name\": \"sharath\",\n",
        "    \"age\": 19,\n",
        "    \"city\": \"INDIA\"\n",
        "}\n",
        "name_value = my_dict[\"name\"]\n",
        "age_value = my_dict[\"age\"]\n",
        "city_value = my_dict[\"city\"]\n",
        "print(\"Name:\", name_value)\n",
        "print(\"Age:\", age_value)\n",
        "print(\"City:\", city_value)\n"
      ],
      "metadata": {
        "colab": {
          "base_uri": "https://localhost:8080/"
        },
        "id": "IAN9IN1KuFay",
        "outputId": "9dfabcba-da33-4fa8-e5d7-f29df82f4456"
      },
      "execution_count": 21,
      "outputs": [
        {
          "output_type": "stream",
          "name": "stdout",
          "text": [
            "Name: sharath\n",
            "Age: 19\n",
            "City: INDIA\n"
          ]
        }
      ]
    },
    {
      "cell_type": "code",
      "source": [
        "my_dict = {\n",
        "    \"name\": \"SHARATH\",\n",
        "    \"age\": 25,\n",
        "    \"city\": \"New York\"\n",
        "}\n",
        "my_dict[\"email\"] = \"SHARATH@example.com\"\n",
        "print(\"After adding new element:\", my_dict)\n",
        "my_dict[\"age\"] = 19\n",
        "print(\"After updating age:\", my_dict)\n"
      ],
      "metadata": {
        "colab": {
          "base_uri": "https://localhost:8080/"
        },
        "id": "H7bPibajvQOG",
        "outputId": "87bfb35a-1a55-4dff-9034-97565972a269"
      },
      "execution_count": 23,
      "outputs": [
        {
          "output_type": "stream",
          "name": "stdout",
          "text": [
            "After adding new element: {'name': 'SHARATH', 'age': 25, 'city': 'New York', 'email': 'SHARATH@example.com'}\n",
            "After updating age: {'name': 'SHARATH', 'age': 19, 'city': 'New York', 'email': 'SHARATH@example.com'}\n"
          ]
        }
      ]
    },
    {
      "cell_type": "code",
      "source": [
        "\n",
        "my_dict = {\n",
        "    \"name\": \"SHARATH\",\n",
        "    \"age\": 19,\n",
        "    \"city\": \"INDIA\"\n",
        "}\n",
        "\n",
        "del my_dict[\"age\"]\n",
        "\n",
        "print(\"Dictionary after deleting 'age':\", my_dict)\n"
      ],
      "metadata": {
        "colab": {
          "base_uri": "https://localhost:8080/"
        },
        "id": "ShOM9THqvt0g",
        "outputId": "af7fed45-17ec-4a3a-dfd1-15ae0bfe37df"
      },
      "execution_count": 25,
      "outputs": [
        {
          "output_type": "stream",
          "name": "stdout",
          "text": [
            "Dictionary after deleting 'age': {'name': 'SHARATH', 'city': 'INDIA'}\n"
          ]
        }
      ]
    },
    {
      "cell_type": "code",
      "source": [
        "\n",
        "my_dict = {\n",
        "    \"name\": \"SHARATH\",\n",
        "    \"age\": 19,\n",
        "    \"city\":\"INDIA\"\n",
        "}\n",
        "for key, value in my_dict.items():\n",
        "    print(f\"Key: {key}, Value: {value}\")\n"
      ],
      "metadata": {
        "colab": {
          "base_uri": "https://localhost:8080/"
        },
        "id": "3XIlMLZFwQiX",
        "outputId": "d87f7773-134a-4167-a63d-ec035565b3bd"
      },
      "execution_count": 27,
      "outputs": [
        {
          "output_type": "stream",
          "name": "stdout",
          "text": [
            "Key: name, Value: SHARATH\n",
            "Key: age, Value: 19\n",
            "Key: city, Value: INDIA\n"
          ]
        }
      ]
    },
    {
      "cell_type": "code",
      "source": [
        "dict1 = {\n",
        "    \"name\": \"SHARATH\",\n",
        "    \"age\": 19\n",
        "}\n",
        "dict2 = {\n",
        "    \"city\": \"INDIA\",\n",
        "    \"email\": \"SHARATH@example.com\"\n",
        "}\n",
        "dict1.update(dict2)\n",
        "\n",
        "print(\"Merged Dictionary:\", dict1)"
      ],
      "metadata": {
        "colab": {
          "base_uri": "https://localhost:8080/"
        },
        "id": "Th2TsQUbwwzQ",
        "outputId": "1da0c8db-10fe-4986-9412-bad0892253e6"
      },
      "execution_count": 29,
      "outputs": [
        {
          "output_type": "stream",
          "name": "stdout",
          "text": [
            "Merged Dictionary: {'name': 'SHARATH', 'age': 19, 'city': 'INDIA', 'email': 'SHARATH@example.com'}\n"
          ]
        }
      ]
    },
    {
      "cell_type": "code",
      "source": [],
      "metadata": {
        "id": "AmFko5HJxUO1"
      },
      "execution_count": 30,
      "outputs": []
    },
    {
      "cell_type": "code",
      "source": [
        "set1 = {1, 2, 3, 4, 5}\n",
        "set2 = {4, 5, 6, 7, 8}\n",
        "union_result = set1 | set2\n",
        "print(\"Union of set1 and set2:\", union_result)\n",
        "intersection_result = set1 & set2\n",
        "print(\"Intersection of set1 and set2:\", intersection_result)\n",
        "difference_result = set1 - set2\n",
        "print(\"Difference of set1 and set2 (set1 - set2):\", difference_result)\n"
      ],
      "metadata": {
        "colab": {
          "base_uri": "https://localhost:8080/"
        },
        "id": "qY21puP3x9vf",
        "outputId": "a47fcb28-45db-44dc-f1c8-69cbc752f2a6"
      },
      "execution_count": 31,
      "outputs": [
        {
          "output_type": "stream",
          "name": "stdout",
          "text": [
            "Union of set1 and set2: {1, 2, 3, 4, 5, 6, 7, 8}\n",
            "Intersection of set1 and set2: {4, 5}\n",
            "Difference of set1 and set2 (set1 - set2): {1, 2, 3}\n"
          ]
        }
      ]
    },
    {
      "cell_type": "code",
      "source": [],
      "metadata": {
        "id": "HOoK99okya5A"
      },
      "execution_count": null,
      "outputs": []
    },
    {
      "cell_type": "code",
      "source": [
        "my_set = {10, 20, 30, 40, 50}\n",
        "element_to_check = 100\n",
        "if element_to_check in my_set:\n",
        "    print(f\"The element {element_to_check} exists in the set.\")\n",
        "else:\n",
        "    print(f\"The element {element_to_check} does not exist in the set.\")"
      ],
      "metadata": {
        "colab": {
          "base_uri": "https://localhost:8080/"
        },
        "id": "4JJzyJEzzKAa",
        "outputId": "cd41d6a6-6c4b-488d-eeae-7a2ee4a78c97"
      },
      "execution_count": 34,
      "outputs": [
        {
          "output_type": "stream",
          "name": "stdout",
          "text": [
            "The element 100 does not exist in the set.\n"
          ]
        }
      ]
    },
    {
      "cell_type": "code",
      "source": [
        "\n",
        "set1 = {1, 2, 3, 4, 5}\n",
        "set2 = {4, 5, 6, 7, 8}\n",
        "common_elements = set1 & set2\n",
        "print(\"Common elements between set1 and set2:\", common_elements)\n"
      ],
      "metadata": {
        "colab": {
          "base_uri": "https://localhost:8080/"
        },
        "id": "ifTTS-VLzsHq",
        "outputId": "4ed4b006-e173-426d-89c3-94a05d25959e"
      },
      "execution_count": 35,
      "outputs": [
        {
          "output_type": "stream",
          "name": "stdout",
          "text": [
            "Common elements between set1 and set2: {4, 5}\n"
          ]
        }
      ]
    },
    {
      "cell_type": "code",
      "source": [
        "my_list = [1, 2, 2, 3, 4, 4, 5, 6, 6]\n",
        "unique_set = set(my_list)\n",
        "print(\"List with duplicates removed:\", unique_set)\n"
      ],
      "metadata": {
        "colab": {
          "base_uri": "https://localhost:8080/"
        },
        "id": "d8dW8ropz_IU",
        "outputId": "08269bfc-4d95-4e93-d36c-ba430bc16b35"
      },
      "execution_count": 38,
      "outputs": [
        {
          "output_type": "stream",
          "name": "stdout",
          "text": [
            "List with duplicates removed: {1, 2, 3, 4, 5, 6}\n"
          ]
        }
      ]
    },
    {
      "cell_type": "code",
      "source": [
        "squares = [x**2 for x in range(1, 11)]\n",
        "print(\"Squares of numbers from 1 to 10:\", squares)\n"
      ],
      "metadata": {
        "colab": {
          "base_uri": "https://localhost:8080/"
        },
        "id": "kvSe5b2J0rA1",
        "outputId": "20d89605-69ec-42fe-cb76-b3748da5bc2f"
      },
      "execution_count": 40,
      "outputs": [
        {
          "output_type": "stream",
          "name": "stdout",
          "text": [
            "Squares of numbers from 1 to 10: [1, 4, 9, 16, 25, 36, 49, 64, 81, 100]\n"
          ]
        }
      ]
    },
    {
      "cell_type": "code",
      "source": [
        "squares_dict = {x: x**2 for x in range(1, 6)}\n",
        "print(\"Dictionary of numbers and their squares:\", squares_dict)\n"
      ],
      "metadata": {
        "colab": {
          "base_uri": "https://localhost:8080/"
        },
        "id": "w_59Fowh1QfT",
        "outputId": "294e9ded-a451-4005-8ab2-b1cf105840cb"
      },
      "execution_count": 41,
      "outputs": [
        {
          "output_type": "stream",
          "name": "stdout",
          "text": [
            "Dictionary of numbers and their squares: {1: 1, 2: 4, 3: 9, 4: 16, 5: 25}\n"
          ]
        }
      ]
    },
    {
      "cell_type": "code",
      "source": [
        "even_numbers = {num for num in range(1, 11) if num % 2 == 0}\n",
        "print(even_numbers)\n"
      ],
      "metadata": {
        "id": "GRZQg0f42ZwG",
        "outputId": "8ffa0094-dc03-48f0-c59e-fbe4ddb268af",
        "colab": {
          "base_uri": "https://localhost:8080/"
        }
      },
      "execution_count": 50,
      "outputs": [
        {
          "output_type": "stream",
          "name": "stdout",
          "text": [
            "{2, 4, 6, 8, 10}\n"
          ]
        }
      ]
    }
  ]
}