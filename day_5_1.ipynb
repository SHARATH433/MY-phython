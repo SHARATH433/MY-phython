{
  "nbformat": 4,
  "nbformat_minor": 0,
  "metadata": {
    "colab": {
      "provenance": []
    },
    "kernelspec": {
      "name": "python3",
      "display_name": "Python 3"
    },
    "language_info": {
      "name": "python"
    }
  },
  "cells": [
    {
      "cell_type": "code",
      "execution_count": 1,
      "metadata": {
        "colab": {
          "base_uri": "https://localhost:8080/"
        },
        "id": "VM1ChtYAE3Lg",
        "outputId": "3c579e35-0e2c-41b0-e4f1-b6e1b0a1ce57"
      },
      "outputs": [
        {
          "output_type": "stream",
          "name": "stdout",
          "text": [
            "Brand: Toyota, Model: Camry\n"
          ]
        }
      ],
      "source": [
        "#1\n",
        "class Car:\n",
        "    def display(self, brand, model):\n",
        "        print(f\"Brand: {brand}, Model: {model}\")\n",
        "car = Car()\n",
        "car.display(\"Toyota\", \"Camry\")\n"
      ]
    },
    {
      "cell_type": "code",
      "source": [
        "#2\n",
        "class Car:\n",
        "    def __init__(self, brand, model):\n",
        "        self.brand = brand\n",
        "        self.model = model\n",
        "\n",
        "    def display(self):\n",
        "        print(f\"Brand: {self.brand}, Model: {self.model}\")\n",
        "\n",
        "\n",
        "car1 = Car(\"Toyota\", \"Camry\")\n",
        "car2 = Car(\"Ford\", \"Focus\")\n",
        "car1.display()\n",
        "car2.display()\n"
      ],
      "metadata": {
        "colab": {
          "base_uri": "https://localhost:8080/"
        },
        "id": "wMzVmTfoFkTO",
        "outputId": "03f76d79-6724-4549-9d72-74eb00b47580"
      },
      "execution_count": 2,
      "outputs": [
        {
          "output_type": "stream",
          "name": "stdout",
          "text": [
            "Brand: Toyota, Model: Camry\n",
            "Brand: Ford, Model: Focus\n"
          ]
        }
      ]
    },
    {
      "cell_type": "code",
      "source": [
        "#3\n",
        "class Car:\n",
        "    def __init__(self, brand, model):\n",
        "\n",
        "        self.brand = brand\n",
        "        self.model = model\n",
        "\n",
        "    def display(self):\n",
        "\n",
        "        print(f\"Brand: {self.brand}, Model: {self.model}\")\n",
        "\n",
        "car1 = Car(\"Toyota\", \"Camry\")\n",
        "car2 = Car(\"Ford\", \"Focus\")\n",
        "car3 = Car(\"Honda\", \"Civic\")\n",
        "car4 = Car(\"BMW\", \"X5\")\n",
        "car5 = Car(\"Audi\", \"A4\")\n",
        "\n",
        "car1.display()\n",
        "car2.display()\n",
        "car3.display()\n",
        "car4.display()\n",
        "car5.display()\n"
      ],
      "metadata": {
        "colab": {
          "base_uri": "https://localhost:8080/"
        },
        "id": "-Nu90ME0F18r",
        "outputId": "4938681c-c1cc-419d-cb2c-65deb15551a4"
      },
      "execution_count": 3,
      "outputs": [
        {
          "output_type": "stream",
          "name": "stdout",
          "text": [
            "Brand: Toyota, Model: Camry\n",
            "Brand: Ford, Model: Focus\n",
            "Brand: Honda, Model: Civic\n",
            "Brand: BMW, Model: X5\n",
            "Brand: Audi, Model: A4\n"
          ]
        }
      ]
    },
    {
      "cell_type": "code",
      "source": [
        "class BankAccount:\n",
        "    def __init__(self, balance=0):\n",
        "        self.__balance = balance\n",
        "\n",
        "    def deposit(self, amount):\n",
        "        if amount > 0:\n",
        "            self.__balance += amount\n",
        "            print(f\"Deposited {amount}, New Balance: {self.__balance}\")\n",
        "        else:\n",
        "            print(\"Deposit amount must be positive.\")\n",
        "\n",
        "    def withdraw(self, amount):\n",
        "        if amount > 0 and amount <= self.__balance:\n",
        "            self.__balance -= amount\n",
        "            print(f\"Withdrew {amount}, New Balance: {self.__balance}\")\n",
        "        else:\n",
        "            print(\"Insufficient balance or invalid amount.\")\n",
        "\n",
        "account = BankAccount(100)\n",
        "account.deposit(50)\n",
        "account.withdraw(30)\n"
      ],
      "metadata": {
        "colab": {
          "base_uri": "https://localhost:8080/"
        },
        "id": "fEeQeyFrHPEs",
        "outputId": "70e67a53-e404-4538-8d08-8d263bfd62a1"
      },
      "execution_count": 4,
      "outputs": [
        {
          "output_type": "stream",
          "name": "stdout",
          "text": [
            "Deposited 50, New Balance: 150\n",
            "Withdrew 30, New Balance: 120\n"
          ]
        }
      ]
    },
    {
      "cell_type": "code",
      "source": [
        "class Car:\n",
        "    def __init__(self, brand, model):\n",
        "        self.__brand = brand\n",
        "        self.__model = model\n",
        "\n",
        "    def get_brand(self):\n",
        "        return self.__brand\n",
        "\n",
        "    def set_brand(self, brand):\n",
        "        self.__brand = brand\n",
        "\n",
        "    def get_model(self):\n",
        "        return self.__model\n",
        "\n",
        "    def set_model(self, model):\n",
        "        self.__model = model\n",
        "\n",
        "car = Car(\"Toyota\", \"Corolla\")\n",
        "print(car.get_brand())\n",
        "car.set_brand(\"Honda\")\n",
        "print(car.get_brand())\n"
      ],
      "metadata": {
        "colab": {
          "base_uri": "https://localhost:8080/"
        },
        "id": "XvueremhHaym",
        "outputId": "b5e0c747-27b1-4a3f-8b46-21acb5291735"
      },
      "execution_count": 5,
      "outputs": [
        {
          "output_type": "stream",
          "name": "stdout",
          "text": [
            "Toyota\n",
            "Honda\n"
          ]
        }
      ]
    },
    {
      "cell_type": "code",
      "source": [
        "class Animal:\n",
        "    def speak(self):\n",
        "        print(\"Animal makes a sound.\")\n",
        "\n",
        "class Dog(Animal):\n",
        "    def speak(self):\n",
        "        print(\"Dog barks.\")\n",
        "\n",
        "dog = Dog()\n",
        "dog.speak()\n"
      ],
      "metadata": {
        "colab": {
          "base_uri": "https://localhost:8080/"
        },
        "id": "mQhrJykPHhea",
        "outputId": "caedbfec-f187-4e15-f4d5-f97d6f99b37a"
      },
      "execution_count": 6,
      "outputs": [
        {
          "output_type": "stream",
          "name": "stdout",
          "text": [
            "Dog barks.\n"
          ]
        }
      ]
    },
    {
      "cell_type": "code",
      "source": [
        "class Animal:\n",
        "    def speak(self):\n",
        "        print(\"Animal makes a sound.\")\n",
        "\n",
        "class Dog(Animal):\n",
        "    def speak(self):\n",
        "        print(\"Dog barks loudly.\")\n",
        "\n",
        "dog = Dog()\n",
        "dog.speak()\n"
      ],
      "metadata": {
        "colab": {
          "base_uri": "https://localhost:8080/"
        },
        "id": "-Dk53hEBHi9k",
        "outputId": "32b13aa9-231d-4473-9e27-e2c52744e4b8"
      },
      "execution_count": 7,
      "outputs": [
        {
          "output_type": "stream",
          "name": "stdout",
          "text": [
            "Dog barks loudly.\n"
          ]
        }
      ]
    },
    {
      "cell_type": "code",
      "source": [
        "class Bird:\n",
        "    def fly(self):\n",
        "        print(\"Bird can fly.\")\n",
        "\n",
        "class Fish:\n",
        "    def swim(self):\n",
        "        print(\"Fish can swim.\")\n",
        "\n",
        "class FlyingFish(Bird, Fish):\n",
        "    def do_both(self):\n",
        "        self.fly()\n",
        "        self.swim()\n",
        "\n",
        "flying_fish = FlyingFish()\n",
        "flying_fish.do_both()\n"
      ],
      "metadata": {
        "colab": {
          "base_uri": "https://localhost:8080/"
        },
        "id": "zqWj5tNJHm5h",
        "outputId": "411777c5-20a3-474e-adcd-28e9c78b7e54"
      },
      "execution_count": 8,
      "outputs": [
        {
          "output_type": "stream",
          "name": "stdout",
          "text": [
            "Bird can fly.\n",
            "Fish can swim.\n"
          ]
        }
      ]
    },
    {
      "cell_type": "code",
      "source": [
        "class Animal:\n",
        "    def sound(self):\n",
        "        print(\"Animals make sounds.\")\n",
        "\n",
        "class Mammal(Animal):\n",
        "    def sound(self):\n",
        "        print(\"Mammals make sounds.\")\n",
        "\n",
        "class Dog(Mammal):\n",
        "    def sound(self):\n",
        "        print(\"Dog barks.\")\n",
        "\n",
        "dog = Dog()\n",
        "dog.sound()\n"
      ],
      "metadata": {
        "colab": {
          "base_uri": "https://localhost:8080/"
        },
        "id": "BHNfnprJHoNx",
        "outputId": "ea601a9b-539d-448e-af1c-74012171df68"
      },
      "execution_count": 9,
      "outputs": [
        {
          "output_type": "stream",
          "name": "stdout",
          "text": [
            "Dog barks.\n"
          ]
        }
      ]
    },
    {
      "cell_type": "code",
      "source": [
        "class Bird:\n",
        "    def speak(self):\n",
        "        print(\"Bird chirps.\")\n",
        "\n",
        "class Dog:\n",
        "    def speak(self):\n",
        "        print(\"Dog barks.\")\n",
        "\n",
        "def animal_speak(animal):\n",
        "    animal.speak()\n",
        "\n",
        "bird = Bird()\n",
        "dog = Dog()\n",
        "\n",
        "animal_speak(bird)\n",
        "animal_speak(dog)\n"
      ],
      "metadata": {
        "colab": {
          "base_uri": "https://localhost:8080/"
        },
        "id": "EnQKGQzlHrN7",
        "outputId": "b7befc3c-30b6-45df-a02e-270fb33b8798"
      },
      "execution_count": 10,
      "outputs": [
        {
          "output_type": "stream",
          "name": "stdout",
          "text": [
            "Bird chirps.\n",
            "Dog barks.\n"
          ]
        }
      ]
    },
    {
      "cell_type": "code",
      "source": [
        "class Animal:\n",
        "    def speak(self):\n",
        "        print(\"Animal makes a sound.\")\n",
        "\n",
        "class Dog(Animal):\n",
        "    def speak(self):\n",
        "        print(\"Dog barks.\")\n",
        "\n",
        "class Cat(Animal):\n",
        "    def speak(self):\n",
        "        print(\"Cat meows.\")\n",
        "\n",
        "dog = Dog()\n",
        "cat = Cat()\n",
        "\n",
        "dog.speak()\n",
        "cat.speak()\n"
      ],
      "metadata": {
        "colab": {
          "base_uri": "https://localhost:8080/"
        },
        "id": "skDWZ7fvHtiC",
        "outputId": "b5515afc-5327-421a-f856-c745d66625a9"
      },
      "execution_count": 11,
      "outputs": [
        {
          "output_type": "stream",
          "name": "stdout",
          "text": [
            "Dog barks.\n",
            "Cat meows.\n"
          ]
        }
      ]
    },
    {
      "cell_type": "code",
      "source": [
        "class Animal:\n",
        "    def __init__(self, name):\n",
        "        self.name = name\n",
        "\n",
        "    def speak(self):\n",
        "        print(f\"{self.name} makes a sound.\")\n",
        "\n",
        "class Dog(Animal):\n",
        "    def __init__(self, name, breed):\n",
        "        super().__init__(name)\n",
        "        self.breed = breed\n",
        "\n",
        "    def speak(self):\n",
        "        print(f\"{self.name} the {self.breed} barks.\")\n",
        "\n",
        "dog = Dog(\"Rex\", \"German Shepherd\")\n",
        "dog.speak()\n"
      ],
      "metadata": {
        "colab": {
          "base_uri": "https://localhost:8080/"
        },
        "id": "dsQFjxFfHwQh",
        "outputId": "b2b68c6e-9db2-4bc7-b442-fc3459d7f1ff"
      },
      "execution_count": 12,
      "outputs": [
        {
          "output_type": "stream",
          "name": "stdout",
          "text": [
            "Rex the German Shepherd barks.\n"
          ]
        }
      ]
    },
    {
      "cell_type": "code",
      "source": [
        "class Car:\n",
        "    wheels = 4\n",
        "\n",
        "    @classmethod\n",
        "    def vehicle_type(cls):\n",
        "        print(f\"This vehicle has {cls.wheels} wheels.\")\n",
        "\n",
        "    @staticmethod\n",
        "    def calculate_fuel_efficiency(distance, fuel):\n",
        "        return distance / fuel\n",
        "\n",
        "car = Car()\n",
        "car.vehicle_type()\n",
        "efficiency = Car.calculate_fuel_efficiency(100, 5)\n",
        "print(f\"Fuel efficiency: {efficiency} km/l\")\n"
      ],
      "metadata": {
        "colab": {
          "base_uri": "https://localhost:8080/"
        },
        "id": "2iNYfTDmHy6c",
        "outputId": "992e8f6e-9474-46dc-9065-3e437995441f"
      },
      "execution_count": 13,
      "outputs": [
        {
          "output_type": "stream",
          "name": "stdout",
          "text": [
            "This vehicle has 4 wheels.\n",
            "Fuel efficiency: 20.0 km/l\n"
          ]
        }
      ]
    },
    {
      "cell_type": "code",
      "source": [
        "class Point:\n",
        "    def __init__(self, x, y):\n",
        "        self.x = x\n",
        "        self.y = y\n",
        "\n",
        "    def __add__(self, other):\n",
        "        return Point(self.x + other.x, self.y + other.y)\n",
        "\n",
        "    def __str__(self):\n",
        "        return f\"Point({self.x}, {self.y})\"\n",
        "\n",
        "point1 = Point(2, 3)\n",
        "point2 = Point(4, 5)\n",
        "point3 = point1 + point2\n",
        "print(point3)\n"
      ],
      "metadata": {
        "colab": {
          "base_uri": "https://localhost:8080/"
        },
        "id": "FRjQwmDTISA0",
        "outputId": "7d1803bf-cab7-4e0f-e4b0-58c8ef7c39be"
      },
      "execution_count": 14,
      "outputs": [
        {
          "output_type": "stream",
          "name": "stdout",
          "text": [
            "Point(6, 8)\n"
          ]
        }
      ]
    },
    {
      "cell_type": "code",
      "source": [
        "class Car:\n",
        "    def __init__(self, brand, model):\n",
        "        self.brand = brand\n",
        "        self.model = model\n",
        "\n",
        "    def __str__(self):\n",
        "        return f\"{self.brand} {self.model}\"\n",
        "\n",
        "    def __repr__(self):\n",
        "        return f\"Car('{self.brand}', '{self.model}')\"\n",
        "\n",
        "car = Car(\"Toyota\", \"Corolla\")\n",
        "print(car)\n",
        "print(repr(car))\n"
      ],
      "metadata": {
        "colab": {
          "base_uri": "https://localhost:8080/"
        },
        "id": "Oshbfc98I2fP",
        "outputId": "14ae3d9a-9115-4173-f0a4-039b486f8290"
      },
      "execution_count": 15,
      "outputs": [
        {
          "output_type": "stream",
          "name": "stdout",
          "text": [
            "Toyota Corolla\n",
            "Car('Toyota', 'Corolla')\n"
          ]
        }
      ]
    },
    {
      "cell_type": "code",
      "source": [
        "class Car:\n",
        "    count = 0\n",
        "\n",
        "    def __init__(self, brand, model):\n",
        "        self.brand = brand\n",
        "        self.model = model\n",
        "        Car.count += 1\n",
        "\n",
        "    @classmethod\n",
        "    def get_count(cls):\n",
        "        return cls.count\n",
        "\n",
        "car1 = Car(\"Toyota\", \"Camry\")\n",
        "car2 = Car(\"Honda\", \"Civic\")\n",
        "print(Car.get_count())\n"
      ],
      "metadata": {
        "colab": {
          "base_uri": "https://localhost:8080/"
        },
        "id": "g0hAIzDRI6PO",
        "outputId": "b79819fc-caeb-4ee7-d9e8-0c834cf91a60"
      },
      "execution_count": 16,
      "outputs": [
        {
          "output_type": "stream",
          "name": "stdout",
          "text": [
            "2\n"
          ]
        }
      ]
    },
    {
      "cell_type": "code",
      "source": [
        "class Engine:\n",
        "    def start(self):\n",
        "        print(\"Engine starts.\")\n",
        "\n",
        "class Car:\n",
        "    def __init__(self, brand, model):\n",
        "        self.brand = brand\n",
        "        self.model = model\n",
        "        self.engine = Engine()\n",
        "\n",
        "    def start_car(self):\n",
        "        self.engine.start()\n",
        "        print(f\"{self.brand} {self.model} is now running.\")\n",
        "\n",
        "car = Car(\"BMW\", \"X5\")\n",
        "car.start_car()\n"
      ],
      "metadata": {
        "colab": {
          "base_uri": "https://localhost:8080/"
        },
        "id": "sd_XCFjxI-Gt",
        "outputId": "bd966053-fdda-453f-c609-a866db81d346"
      },
      "execution_count": 18,
      "outputs": [
        {
          "output_type": "stream",
          "name": "stdout",
          "text": [
            "Engine starts.\n",
            "BMW X5 is now running.\n"
          ]
        }
      ]
    },
    {
      "cell_type": "code",
      "source": [
        "from abc import ABC, abstractmethod\n",
        "\n",
        "class Animal(ABC):\n",
        "    @abstractmethod\n",
        "    def sound(self):\n",
        "        pass\n",
        "\n",
        "class Dog(Animal):\n",
        "    def sound(self):\n",
        "        print(\"Dog barks.\")\n",
        "\n",
        "dog = Dog()\n",
        "dog.sound()\n"
      ],
      "metadata": {
        "colab": {
          "base_uri": "https://localhost:8080/"
        },
        "id": "JQiswCWLJDre",
        "outputId": "982d166f-3c49-46e8-9f05-e62331709d8d"
      },
      "execution_count": 19,
      "outputs": [
        {
          "output_type": "stream",
          "name": "stdout",
          "text": [
            "Dog barks.\n"
          ]
        }
      ]
    },
    {
      "cell_type": "code",
      "source": [
        "from abc import ABC, abstractmethod\n",
        "\n",
        "class Shape(ABC):\n",
        "    @abstractmethod\n",
        "    def area(self):\n",
        "        pass\n",
        "\n",
        "class Circle(Shape):\n",
        "    def __init__(self, radius):\n",
        "        self.radius = radius\n",
        "\n",
        "    def area(self):\n",
        "        return 3.14 * self.radius * self.radius\n",
        "\n",
        "class Rectangle(Shape):\n",
        "    def __init__(self, length, width):\n",
        "        self.length = length\n",
        "        self.width = width\n",
        "\n",
        "    def area(self):\n",
        "        return self.length * self.width\n",
        "\n",
        "circle = Circle(5)\n",
        "rectangle = Rectangle(4, 6)\n",
        "print(circle.area())\n",
        "print(rectangle.area())\n"
      ],
      "metadata": {
        "colab": {
          "base_uri": "https://localhost:8080/"
        },
        "id": "3Te83PBuJHwY",
        "outputId": "38fa7ea3-5f93-43bc-ae9f-21d2be6270df"
      },
      "execution_count": 20,
      "outputs": [
        {
          "output_type": "stream",
          "name": "stdout",
          "text": [
            "78.5\n",
            "24\n"
          ]
        }
      ]
    },
    {
      "cell_type": "code",
      "source": [
        "class FileHandler:\n",
        "    def write_file(self, filename, text):\n",
        "        with open(filename, 'w') as f:\n",
        "            f.write(text)\n",
        "\n",
        "    def read_file(self, filename):\n",
        "        with open(filename, 'r') as f:\n",
        "            return f.read()\n",
        "\n",
        "file_handler = FileHandler()\n",
        "file_handler.write_file(\"test.txt\", \"Hello, world!\")\n",
        "print(file_handler.read_file(\"test.txt\"))\n"
      ],
      "metadata": {
        "colab": {
          "base_uri": "https://localhost:8080/"
        },
        "id": "FtKMSiHhJLog",
        "outputId": "13c4100e-5656-4f36-b316-5027c5bf739a"
      },
      "execution_count": 21,
      "outputs": [
        {
          "output_type": "stream",
          "name": "stdout",
          "text": [
            "Hello, world!\n"
          ]
        }
      ]
    },
    {
      "cell_type": "code",
      "source": [
        "class BankAccount:\n",
        "    def __init__(self, balance=0):\n",
        "        self.balance = balance\n",
        "\n",
        "    def deposit(self, amount):\n",
        "        if amount < 0:\n",
        "            raise ValueError(\"Deposit amount must be positive.\")\n",
        "        self.balance += amount\n",
        "        print(f\"Deposited {amount}, new balance: {self.balance}\")\n",
        "\n",
        "account = BankAccount()\n",
        "try:\n",
        "    account.deposit(-50)\n",
        "except ValueError as e:\n",
        "    print(e)\n"
      ],
      "metadata": {
        "colab": {
          "base_uri": "https://localhost:8080/"
        },
        "id": "708tUjWQJO1y",
        "outputId": "e5484220-3503-4766-e09a-a9435f721003"
      },
      "execution_count": 22,
      "outputs": [
        {
          "output_type": "stream",
          "name": "stdout",
          "text": [
            "Deposit amount must be positive.\n"
          ]
        }
      ]
    },
    {
      "cell_type": "code",
      "source": [
        "import pickle\n",
        "\n",
        "class Car:\n",
        "    def __init__(self, brand, model):\n",
        "        self.brand = brand\n",
        "        self.model = model\n",
        "\n",
        "    def __repr__(self):\n",
        "        return f\"Car(brand='{self.brand}', model='{self.model}')\"\n",
        "\n",
        "car = Car(\"Tesla\", \"Model S\")\n",
        "with open(\"car.pkl\", \"wb\") as f:\n",
        "    pickle.dump(car, f)\n",
        "\n",
        "with open(\"car.pkl\", \"rb\") as f:\n",
        "    loaded_car = pickle.load(f)\n",
        "    print(loaded_car)\n"
      ],
      "metadata": {
        "colab": {
          "base_uri": "https://localhost:8080/"
        },
        "id": "JTpu8HgNJSKv",
        "outputId": "d4b2d892-530b-4a53-d625-340587b3ae9e"
      },
      "execution_count": 23,
      "outputs": [
        {
          "output_type": "stream",
          "name": "stdout",
          "text": [
            "Car(brand='Tesla', model='Model S')\n"
          ]
        }
      ]
    },
    {
      "cell_type": "code",
      "source": [
        "class Car:\n",
        "    def __init__(self, brand, model):\n",
        "        self.brand = brand\n",
        "        self.model = model\n",
        "\n",
        "    def display(self):\n",
        "        print(f\"Brand: {self.brand}, Model: {self.model}\")\n",
        "\n",
        "# Creating a list of Car objects\n",
        "cars = [\n",
        "    Car(\"Toyota\", \"Camry\"),\n",
        "    Car(\"Ford\", \"Mustang\"),\n",
        "    Car(\"BMW\", \"X5\"),\n",
        "    Car(\"Tesla\", \"Model 3\")\n",
        "]\n",
        "\n",
        "# Iterating over the list and displaying the details of each car\n",
        "for car in cars:\n",
        "    car.display()\n"
      ],
      "metadata": {
        "colab": {
          "base_uri": "https://localhost:8080/"
        },
        "id": "8qBgTL5qJVVr",
        "outputId": "203823f6-1191-45b7-98f4-e3654f211814"
      },
      "execution_count": 24,
      "outputs": [
        {
          "output_type": "stream",
          "name": "stdout",
          "text": [
            "Brand: Toyota, Model: Camry\n",
            "Brand: Ford, Model: Mustang\n",
            "Brand: BMW, Model: X5\n",
            "Brand: Tesla, Model: Model 3\n"
          ]
        }
      ]
    },
    {
      "cell_type": "code",
      "source": [
        "class Calculator:\n",
        "    def add(self, a, b):\n",
        "        return a + b\n",
        "\n",
        "    def subtract(self, a, b):\n",
        "        return a - b\n",
        "\n",
        "    def multiply(self, a, b):\n",
        "        return a * b\n",
        "\n",
        "    def divide(self, a, b):\n",
        "        if b != 0:\n",
        "            return a / b\n",
        "        else:\n",
        "            raise ValueError(\"Cannot divide by zero.\")\n",
        "\n",
        "# Creating a calculator object and performing operations\n",
        "calc = Calculator()\n",
        "\n",
        "print(\"Addition:\", calc.add(10, 5))\n",
        "print(\"Subtraction:\", calc.subtract(10, 5))\n",
        "print(\"Multiplication:\", calc.multiply(10, 5))\n",
        "print(\"Division:\", calc.divide(10, 5))\n",
        "\n",
        "# Uncomment below to see the exception in action:\n",
        "# print(\"Division by Zero:\", calc.divide(10, 0))  # This will raise a ValueError\n"
      ],
      "metadata": {
        "colab": {
          "base_uri": "https://localhost:8080/"
        },
        "id": "4AdE5MU7JjVn",
        "outputId": "8a8e347f-9a21-437f-8437-ee9ce68fe39a"
      },
      "execution_count": 25,
      "outputs": [
        {
          "output_type": "stream",
          "name": "stdout",
          "text": [
            "Addition: 15\n",
            "Subtraction: 5\n",
            "Multiplication: 50\n",
            "Division: 2.0\n"
          ]
        }
      ]
    },
    {
      "cell_type": "code",
      "source": [
        "class Student:\n",
        "    def __init__(self, name, age, marks):\n",
        "        self.name = name\n",
        "        self.age = age\n",
        "        self.marks = marks\n",
        "\n",
        "    def calculate_grade(self):\n",
        "        if self.marks >= 90:\n",
        "            return \"A\"\n",
        "        elif self.marks >= 75:\n",
        "            return \"B\"\n",
        "        elif self.marks >= 60:\n",
        "            return \"C\"\n",
        "        elif self.marks >= 50:\n",
        "            return \"D\"\n",
        "        else:\n",
        "            return \"F\"\n",
        "\n",
        "    def display_details(self):\n",
        "        grade = self.calculate_grade()\n",
        "        print(f\"Name: {self.name}, Age: {self.age}, Marks: {self.marks}, Grade: {grade}\")\n",
        "\n",
        "# Creating Student objects\n",
        "student1 = Student(\"Alice\", 20, 85)\n",
        "student2 = Student(\"Bob\", 22, 92)\n",
        "student3 = Student(\"Charlie\", 21, 58)\n",
        "\n",
        "# Displaying student details\n",
        "student1.display_details()\n",
        "student2.display_details()\n",
        "student3.display_details()\n"
      ],
      "metadata": {
        "colab": {
          "base_uri": "https://localhost:8080/"
        },
        "id": "78y7b3G7JmsO",
        "outputId": "d82cf63d-65a0-4393-e7bf-635fb9f1ea23"
      },
      "execution_count": 27,
      "outputs": [
        {
          "output_type": "stream",
          "name": "stdout",
          "text": [
            "Name: Alice, Age: 20, Marks: 85, Grade: B\n",
            "Name: Bob, Age: 22, Marks: 92, Grade: A\n",
            "Name: Charlie, Age: 21, Marks: 58, Grade: D\n"
          ]
        }
      ]
    }
  ]
}