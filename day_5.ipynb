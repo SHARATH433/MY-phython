{
  "nbformat": 4,
  "nbformat_minor": 0,
  "metadata": {
    "colab": {
      "provenance": []
    },
    "kernelspec": {
      "name": "python3",
      "display_name": "Python 3"
    },
    "language_info": {
      "name": "python"
    }
  },
  "cells": [
    {
      "cell_type": "code",
      "execution_count": null,
      "metadata": {
        "colab": {
          "base_uri": "https://localhost:8080/"
        },
        "id": "Gs4c45lmv9pa",
        "outputId": "54f2bdb4-5e66-4517-92d0-7cc49fd661bb"
      },
      "outputs": [
        {
          "output_type": "stream",
          "name": "stdout",
          "text": [
            "After adding new element: {'name': 'SHARATH', 'age': 25, 'city': 'New York', 'email': 'SHARATH@example.com'}\n",
            "After updating age: {'name': 'SHARATH', 'age': 19, 'city': 'New York', 'email': 'SHARATH@example.com'}\n"
          ]
        }
      ],
      "source": [
        "my_dict = {\n",
        "    \"name\": \"SHARATH\",\n",
        "    \"age\": 25,\n",
        "    \"city\": \"New York\"\n",
        "}\n",
        "my_dict[\"email\"] = \"SHARATH@example.com\"\n",
        "print(\"After adding new element:\", my_dict)\n",
        "my_dict[\"age\"] = 19\n",
        "print(\"After updating age:\", my_dict)\n"
      ]
    },
    {
      "cell_type": "code",
      "source": [
        "class sharath:\n",
        "    def __init__(self):\n",
        "        self.public =\"ok\"\n",
        "        self.__private=\"not ok\"\n",
        "    def praju_private(self):\n",
        "        print(self.__private)\n",
        "praju=sharath()\n",
        "print(praju.public)\n",
        "praju.praju_private()"
      ],
      "metadata": {
        "colab": {
          "base_uri": "https://localhost:8080/"
        },
        "id": "LUn1sNwnEjee",
        "outputId": "b925346d-12dd-437f-a9ad-e7750fa2ceb2"
      },
      "execution_count": null,
      "outputs": [
        {
          "output_type": "stream",
          "name": "stdout",
          "text": [
            "ok\n",
            "not ok\n"
          ]
        }
      ]
    },
    {
      "cell_type": "code",
      "source": [
        "class animal:\n",
        "  def __init__(self):\n",
        "    print(\"I am animal\")\n",
        "\n",
        "class dog(animal):\n",
        "  def __init__(self):\n",
        "    print(\"i borking\")\n",
        "\n",
        "  def bark(self):\n",
        "    print(\"Woof!\")\n",
        "\n",
        "  def walk(self):\n",
        "    print(\"walking\")\n",
        "\n",
        "\n",
        "dog_instance = dog()\n",
        "dog_instance.bark()\n",
        "dog_instance.walk()"
      ],
      "metadata": {
        "colab": {
          "base_uri": "https://localhost:8080/"
        },
        "id": "pQua3Vp-SuFE",
        "outputId": "c9518616-4dd6-48bb-b898-f8b9e10b60e8"
      },
      "execution_count": null,
      "outputs": [
        {
          "output_type": "stream",
          "name": "stdout",
          "text": [
            "i borking\n",
            "Woof!\n",
            "walking\n"
          ]
        }
      ]
    },
    {
      "cell_type": "code",
      "source": [
        "class A:\n",
        "    def __init__(self):\n",
        "        print(\"HI\")\n",
        "\n",
        "    def hello(self):\n",
        "        print(\"Hello I am sharath\")\n",
        "\n",
        "class B:\n",
        "    def __init__(self):\n",
        "        print(\"HI\")\n",
        "\n",
        "    def hello(self):\n",
        "        print(\"Hello I am Bharath\")\n",
        "\n",
        "class C(B, A):\n",
        "\n",
        "    pass\n",
        "\n",
        "c = C()\n",
        "c.hello()\n"
      ],
      "metadata": {
        "colab": {
          "base_uri": "https://localhost:8080/"
        },
        "id": "c87CABgiUh_b",
        "outputId": "67f661bb-77ba-4a0f-b77d-18f5a73b0a63"
      },
      "execution_count": null,
      "outputs": [
        {
          "output_type": "stream",
          "name": "stdout",
          "text": [
            "HI\n",
            "Hello I am Bharath\n"
          ]
        }
      ]
    },
    {
      "cell_type": "code",
      "source": [
        "class Bird:\n",
        "  def speak(self):\n",
        "    print(\"i chirp\")\n",
        "\n",
        "class parrot:\n",
        "  def speak(self):\n",
        "    print(\"i good\")\n",
        "\n",
        "parrot=parrot()\n",
        "parrot.speak()"
      ],
      "metadata": {
        "colab": {
          "base_uri": "https://localhost:8080/"
        },
        "id": "9OfDRXpPWiwG",
        "outputId": "316045b5-d9bb-4cbf-ae91-ac9de853d571"
      },
      "execution_count": null,
      "outputs": [
        {
          "output_type": "stream",
          "name": "stdout",
          "text": [
            "i good\n"
          ]
        }
      ]
    },
    {
      "cell_type": "code",
      "source": [
        "class Student:\n",
        "    def __init__(self, name, age):\n",
        "        self.name = name\n",
        "        self.age = age\n",
        "        self.grades = []\n",
        "\n",
        "    def add_grade(self, grade):\n",
        "        self.grades.append(grade)\n",
        "        print(f\"Grade {grade} added for {self.name}.\")\n",
        "\n",
        "    def calculate_average(self):\n",
        "        if self.grades:\n",
        "            avg = sum(self.grades) / len(self.grades)\n",
        "            print(f\"Average grade for {self.name}: {avg:.2f}\")\n",
        "        else:\n",
        "            print(f\"{self.name} has no grades.\")\n",
        "\n",
        "    def display_info(self):\n",
        "        print(f\"Student: {self.name}, Age: {self.age}\")\n",
        "        self.calculate_average()\n",
        "student1 = Student(\"John\", 20)\n",
        "student1.add_grade(85)\n",
        "student1.add_grade(90)\n",
        "student1.add_grade(78)\n",
        "student1.display_info()\n",
        "\n",
        "student2 = Student(\"Alice\", 22)\n",
        "student2.add_grade(92)\n",
        "student2.display_info()\n"
      ],
      "metadata": {
        "colab": {
          "base_uri": "https://localhost:8080/"
        },
        "id": "boFR1W7oYEXG",
        "outputId": "52aea713-5417-4857-b447-69351186b241"
      },
      "execution_count": null,
      "outputs": [
        {
          "output_type": "stream",
          "name": "stdout",
          "text": [
            "Grade 85 added for John.\n",
            "Grade 90 added for John.\n",
            "Grade 78 added for John.\n",
            "Student: John, Age: 20\n",
            "Average grade for John: 84.33\n",
            "Grade 92 added for Alice.\n",
            "Student: Alice, Age: 22\n",
            "Average grade for Alice: 92.00\n"
          ]
        }
      ]
    },
    {
      "cell_type": "code",
      "source": [
        "class bank:\n",
        "    def __init__(self,balance=00):\n",
        "        self.balance=balance\n",
        "    def invest(self,amount):\n",
        "        self.balance+=amount\n",
        "        print(f\"balance is {self.balance}\")\n",
        "    def withdrow(self,amount):\n",
        "        if amount<self.balance:\n",
        "            self.balance-=amount\n",
        "            print(f\"balance is {self.balance}\")\n",
        "        else:\n",
        "            print(\"no balance\")\n",
        "\n",
        "obj1=bank()\n",
        "obj1.invest(10.000)\n",
        "obj1.withdrow(50.00)"
      ],
      "metadata": {
        "colab": {
          "base_uri": "https://localhost:8080/"
        },
        "id": "69aNKSrlcALr",
        "outputId": "f49c831d-b009-49b8-f13d-67b70cc1fd7e"
      },
      "execution_count": null,
      "outputs": [
        {
          "output_type": "stream",
          "name": "stdout",
          "text": [
            "balance is 10.0\n",
            "no balance\n"
          ]
        }
      ]
    },
    {
      "cell_type": "markdown",
      "source": [],
      "metadata": {
        "id": "1mNcM5V8hmsf"
      }
    },
    {
      "cell_type": "code",
      "source": [],
      "metadata": {
        "id": "I_XKOpqKhnCR"
      },
      "execution_count": null,
      "outputs": []
    },
    {
      "cell_type": "code",
      "source": [],
      "metadata": {
        "id": "jNu2ndLfhnQz"
      },
      "execution_count": null,
      "outputs": []
    },
    {
      "cell_type": "code",
      "source": [
        "\n",
        "class Vehicle:\n",
        "    def __init__(self, make, model, year):\n",
        "        self.make = 2\n",
        "        self.model = 2\n",
        "        self.year =  2\n",
        "\n",
        "    def start_engine(self):\n",
        "        return f\"The engine of the {self.make} {self.model} is now running.\"\n",
        "\n",
        "    def stop_engine(self):\n",
        "        return f\"The engine of the {self.make} {self.model} is now off.\"\n",
        "\n",
        "    def display_info(self):\n",
        "        return f\"{self.year} {self.make} {self.model}\"\n",
        "print (Vehicle.start_engine)\n",
        "print(Vehicle.stop_engine)\n",
        "print(Vehicle.display_info)"
      ],
      "metadata": {
        "colab": {
          "base_uri": "https://localhost:8080/"
        },
        "id": "7ygjHQc4fp72",
        "outputId": "481aa5b7-8f6a-4bcb-c29e-94f37a97d8e1"
      },
      "execution_count": null,
      "outputs": [
        {
          "output_type": "stream",
          "name": "stdout",
          "text": [
            "<function Vehicle.start_engine at 0x7f8683c45440>\n",
            "<function Vehicle.stop_engine at 0x7f8683c45a80>\n",
            "<function Vehicle.display_info at 0x7f8683c45bc0>\n"
          ]
        }
      ]
    },
    {
      "cell_type": "code",
      "source": [
        "class Vehicle:\n",
        "    def __init__(self, make, model, year):\n",
        "        self.make = make\n",
        "        self.model = model\n",
        "        self.year = year\n",
        "\n",
        "    def start_engine(self):\n",
        "        return f\"The engine of the {self.make} {self.model} is now running.\"\n",
        "\n",
        "    def stop_engine(self):\n",
        "        return f\"The engine of the {self.make} {self.model} is now off.\"\n",
        "\n",
        "    def display_info(self):\n",
        "        return f\"{self.year} {self.make} {self.model}\"\n",
        "\n",
        "class Truck(Vehicle):\n",
        "    def __init__(self, make, model, year, cargo_capacity):\n",
        "        super().__init__(make, model, year)\n",
        "        self.cargo_capacity = cargo_capacity\n",
        "\n",
        "    def load_cargo(self):\n",
        "        return f\"Loading cargo into the {self.make} {self.model}.\"\n",
        "\n",
        "    def display_info(self):\n",
        "        return f\"{self.year} {self.make} {self.model} with a cargo capacity of {self.cargo_capacity} tons\"\n"
      ],
      "metadata": {
        "id": "qUhkWZvajbgu"
      },
      "execution_count": null,
      "outputs": []
    }
  ]
}